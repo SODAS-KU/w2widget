{
 "cells": [
  {
   "cell_type": "markdown",
   "metadata": {},
   "source": [
    "# w2widget\n",
    "*Words to Widget*"
   ]
  },
  {
   "cell_type": "markdown",
   "metadata": {},
   "source": [
    "Import widget"
   ]
  },
  {
   "cell_type": "code",
   "execution_count": 1,
   "metadata": {},
   "outputs": [],
   "source": [
    "%load_ext autoreload\n",
    "%autoreload 1"
   ]
  },
  {
   "cell_type": "code",
   "execution_count": 2,
   "metadata": {},
   "outputs": [],
   "source": [
    "from w2v_widget.widget import WVWidget\n",
    "%aimport w2v_widget.widget"
   ]
  },
  {
   "cell_type": "markdown",
   "metadata": {},
   "source": [
    "## Load data"
   ]
  },
  {
   "cell_type": "code",
   "execution_count": 3,
   "metadata": {},
   "outputs": [],
   "source": [
    "from nltk.corpus import inaugural, reuters\n",
    "# import nltk\n",
    "# nltk.download('inaugural')"
   ]
  },
  {
   "cell_type": "markdown",
   "metadata": {},
   "source": [
    "### Reuters"
   ]
  },
  {
   "cell_type": "code",
   "execution_count": 4,
   "metadata": {},
   "outputs": [],
   "source": [
    "# docs = []\n",
    "\n",
    "# for path in reuters.fileids():\n",
    "#     with reuters.open(path) as f:\n",
    "#         docs.append(f.read())"
   ]
  },
  {
   "cell_type": "markdown",
   "metadata": {},
   "source": [
    "### Inaugural speeches"
   ]
  },
  {
   "cell_type": "code",
   "execution_count": 5,
   "metadata": {},
   "outputs": [],
   "source": [
    "docs = []\n",
    "\n",
    "for doc in inaugural.abspaths():\n",
    "    #with open(doc, 'r') as f:\n",
    "    f = inaugural.open(doc)\n",
    "    docs.append(f.read())\n",
    "    f.close()"
   ]
  },
  {
   "cell_type": "markdown",
   "metadata": {},
   "source": [
    "## Train word2vec model"
   ]
  },
  {
   "cell_type": "code",
   "execution_count": 6,
   "metadata": {},
   "outputs": [],
   "source": [
    "from gensim.models import Word2Vec"
   ]
  },
  {
   "cell_type": "code",
   "execution_count": 7,
   "metadata": {},
   "outputs": [],
   "source": [
    "w2v = Word2Vec()"
   ]
  },
  {
   "cell_type": "code",
   "execution_count": 8,
   "metadata": {},
   "outputs": [],
   "source": [
    "wv_model = Word2Vec(\n",
    "    [\n",
    "        [word.lower().strip() for word in doc.split()] for doc in docs\n",
    "    ], vector_size=200, window=10, workers=4, seed=42, epochs=100, min_count=2).wv"
   ]
  },
  {
   "cell_type": "markdown",
   "metadata": {},
   "source": [
    "## Reduce dimensions"
   ]
  },
  {
   "cell_type": "code",
   "execution_count": 9,
   "metadata": {},
   "outputs": [],
   "source": [
    "from sklearn.decomposition import PCA\n",
    "#from sklearn.manifold import TSNE\n",
    "from openTSNE import TSNE"
   ]
  },
  {
   "cell_type": "code",
   "execution_count": 10,
   "metadata": {},
   "outputs": [],
   "source": [
    "normed_vectors = wv_model.get_normed_vectors()"
   ]
  },
  {
   "cell_type": "code",
   "execution_count": 11,
   "metadata": {},
   "outputs": [
    {
     "name": "stdout",
     "output_type": "stream",
     "text": [
      "--------------------------------------------------------------------------------\n",
      "TSNE(random_state=420, verbose=1)\n",
      "--------------------------------------------------------------------------------\n",
      "===> Finding 90 nearest neighbors using Annoy approximate search using euclidean distance...\n",
      "   --> Time elapsed: 6.55 seconds\n",
      "===> Calculating affinity matrix...\n",
      "   --> Time elapsed: 1.19 seconds\n",
      "===> Calculating PCA-based initialization...\n",
      "   --> Time elapsed: 0.02 seconds\n",
      "===> Running optimization with exaggeration=12.00, lr=564.75 for 250 iterations...\n",
      "Iteration   50, KL divergence 5.3205, 50 iterations in 7.8918 sec\n",
      "Iteration  100, KL divergence 5.2963, 50 iterations in 5.2588 sec\n",
      "Iteration  150, KL divergence 5.3292, 50 iterations in 4.5732 sec\n",
      "Iteration  200, KL divergence 5.3288, 50 iterations in 4.3540 sec\n",
      "Iteration  250, KL divergence 5.3485, 50 iterations in 4.3112 sec\n",
      "   --> Time elapsed: 26.39 seconds\n",
      "===> Running optimization with exaggeration=1.00, lr=564.75 for 500 iterations...\n",
      "Iteration   50, KL divergence 4.4077, 50 iterations in 4.9350 sec\n",
      "Iteration  100, KL divergence 4.1540, 50 iterations in 3.2389 sec\n",
      "Iteration  150, KL divergence 4.0284, 50 iterations in 3.2526 sec\n",
      "Iteration  200, KL divergence 3.9453, 50 iterations in 2.9885 sec\n",
      "Iteration  250, KL divergence 3.8840, 50 iterations in 2.9361 sec\n",
      "Iteration  300, KL divergence 3.8367, 50 iterations in 2.9328 sec\n",
      "Iteration  350, KL divergence 3.8008, 50 iterations in 3.0613 sec\n",
      "Iteration  400, KL divergence 3.7721, 50 iterations in 4.2507 sec\n",
      "Iteration  450, KL divergence 3.7494, 50 iterations in 3.6507 sec\n",
      "Iteration  500, KL divergence 3.7314, 50 iterations in 3.0618 sec\n",
      "   --> Time elapsed: 34.31 seconds\n",
      "===> Finding 15 nearest neighbors in existing embedding using Annoy approximate search...\n",
      "   --> Time elapsed: 0.85 seconds\n",
      "===> Calculating affinity matrix...\n",
      "   --> Time elapsed: 0.06 seconds\n",
      "===> Running optimization with exaggeration=4.00, lr=0.10 for 0 iterations...\n",
      "   --> Time elapsed: 0.00 seconds\n",
      "===> Running optimization with exaggeration=1.50, lr=0.10 for 250 iterations...\n",
      "Iteration   50, KL divergence 98214.4453, 50 iterations in 2.6960 sec\n",
      "Iteration  100, KL divergence 97072.2145, 50 iterations in 2.8624 sec\n",
      "Iteration  150, KL divergence 96205.5837, 50 iterations in 4.2726 sec\n",
      "Iteration  200, KL divergence 95515.0595, 50 iterations in 6.6398 sec\n",
      "Iteration  250, KL divergence 94927.3257, 50 iterations in 3.2489 sec\n",
      "   --> Time elapsed: 19.72 seconds\n"
     ]
    }
   ],
   "source": [
    "pca = PCA(n_components=50)\n",
    "pca_embedding = pca.fit_transform(normed_vectors)\n",
    "\n",
    "TSNE_embedding = TSNE(\n",
    "    n_components=2, \n",
    "    learning_rate='auto',\n",
    "    random_state=420,\n",
    "    verbose=1\n",
    ").fit(pca_embedding)\n",
    "\n",
    "two_dim_word_vectors = TSNE_embedding.transform(pca_embedding)"
   ]
  },
  {
   "cell_type": "code",
   "execution_count": 12,
   "metadata": {},
   "outputs": [
    {
     "data": {
      "text/plain": [
       "[('case', 0.33405646681785583),\n",
       " ('constitution', 0.3333568871021271),\n",
       " ('station,', 0.29565098881721497),\n",
       " ('vote', 0.2892177700996399),\n",
       " ('respects', 0.2876661717891693),\n",
       " ('route', 0.28618890047073364),\n",
       " ('acquiesced', 0.28555968403816223),\n",
       " ('conscious', 0.2761351764202118),\n",
       " ('sovereign', 0.2750607132911682),\n",
       " ('influence', 0.270988792181015)]"
      ]
     },
     "execution_count": 12,
     "metadata": {},
     "output_type": "execute_result"
    }
   ],
   "source": [
    "wv_model.most_similar(positive='president', negative='vice')"
   ]
  },
  {
   "cell_type": "markdown",
   "metadata": {},
   "source": [
    "## doc2vec\n",
    "\n",
    "https://towardsdatascience.com/word-embeddings-and-document-vectors-when-in-doubt-simplify-8c9aaeec244e\n",
    "\n",
    "https://towardsdatascience.com/document-embedding-techniques-fed3e7a6a25d"
   ]
  },
  {
   "cell_type": "code",
   "execution_count": 13,
   "metadata": {},
   "outputs": [
    {
     "name": "stderr",
     "output_type": "stream",
     "text": [
      "c:\\Users\\tobia\\Programming\\SODAS-KU\\w2v_widget\\src\\w2v_widget\\utils.py:2: TqdmExperimentalWarning: Using `tqdm.autonotebook.tqdm` in notebook mode. Use `tqdm.tqdm` instead to force console mode (e.g. in jupyter console)\n",
      "  from tqdm.autonotebook import tqdm\n"
     ]
    }
   ],
   "source": [
    "from w2v_widget.utils import Doc2Vec, calculate_inverse_frequency\n",
    "%aimport w2v_widget.utils"
   ]
  },
  {
   "cell_type": "code",
   "execution_count": 14,
   "metadata": {},
   "outputs": [],
   "source": [
    "word_weights = calculate_inverse_frequency(\n",
    "    [\n",
    "        [word.lower().strip() for word in doc.split()] for doc in docs\n",
    "    ]\n",
    ")"
   ]
  },
  {
   "cell_type": "code",
   "execution_count": 15,
   "metadata": {},
   "outputs": [],
   "source": [
    "dv_model = Doc2Vec(wv_model, word_weights)"
   ]
  },
  {
   "cell_type": "code",
   "execution_count": 16,
   "metadata": {},
   "outputs": [
    {
     "data": {
      "application/vnd.jupyter.widget-view+json": {
       "model_id": "c681acd888624f238c6957e5b2d02289",
       "version_major": 2,
       "version_minor": 0
      },
      "text/plain": [
       "  0%|          | 0/59 [00:00<?, ?it/s]"
      ]
     },
     "metadata": {},
     "output_type": "display_data"
    }
   ],
   "source": [
    "dv_model.add_doc2vec([[word.lower().strip() for word in doc.split()] for doc in docs])"
   ]
  },
  {
   "cell_type": "code",
   "execution_count": 18,
   "metadata": {},
   "outputs": [],
   "source": [
    "dv_model.reduce_dimensions()"
   ]
  },
  {
   "cell_type": "code",
   "execution_count": 19,
   "metadata": {},
   "outputs": [],
   "source": [
    "dv_tsne_embedding = dv_model.TSNE_embedding_array"
   ]
  },
  {
   "cell_type": "markdown",
   "metadata": {},
   "source": [
    "## Display widget"
   ]
  },
  {
   "cell_type": "code",
   "execution_count": 20,
   "metadata": {},
   "outputs": [],
   "source": [
    "wv_widget = WVWidget(wv_model=wv_model,\n",
    "                     two_dim_word_embedding=TSNE_embedding,\n",
    "                     dv_model=dv_model,\n",
    "                     two_dim_doc_embedding=dv_tsne_embedding, \n",
    "                     tokens_with_ws=docs)"
   ]
  },
  {
   "cell_type": "code",
   "execution_count": 71,
   "metadata": {},
   "outputs": [
    {
     "data": {
      "application/vnd.jupyter.widget-view+json": {
       "model_id": "f732adf3031a4d6dbf1ee368fa9507af",
       "version_major": 2,
       "version_minor": 0
      },
      "text/plain": [
       "VBox(children=(HTML(value='<style>\\n.widget-button {\\n    margin-right: 160px;\\n}\\n\\n.widget-select-multiple {…"
      ]
     },
     "metadata": {},
     "output_type": "display_data"
    }
   ],
   "source": [
    "wv_widget.display_widget()"
   ]
  },
  {
   "cell_type": "code",
   "execution_count": 54,
   "metadata": {},
   "outputs": [],
   "source": [
    "plot_tab = None"
   ]
  },
  {
   "cell_type": "code",
   "execution_count": 59,
   "metadata": {},
   "outputs": [],
   "source": [
    "from traitlets import TraitError"
   ]
  },
  {
   "cell_type": "code",
   "execution_count": 67,
   "metadata": {},
   "outputs": [],
   "source": [
    "plot_tab = widgets.Tab()\n",
    "plot_tab.children = (widgets.Box([wv_widget.wv_figure_widget]), widgets.Box([wv_widget.dv_figure_widget]))\n",
    "plot_tab._titles = {0:\"Words\", 1:\"Documents\"}"
   ]
  },
  {
   "cell_type": "code",
   "execution_count": 70,
   "metadata": {},
   "outputs": [
    {
     "data": {
      "text/plain": [
       "()"
      ]
     },
     "execution_count": 70,
     "metadata": {},
     "output_type": "execute_result"
    }
   ],
   "source": [
    "()"
   ]
  },
  {
   "cell_type": "code",
   "execution_count": 65,
   "metadata": {},
   "outputs": [],
   "source": [
    "plot_tab.children = (wv_widget.wv_figure_widget, wv_widget.dv_figure_widget)"
   ]
  },
  {
   "cell_type": "code",
   "execution_count": 68,
   "metadata": {},
   "outputs": [
    {
     "data": {
      "application/vnd.jupyter.widget-view+json": {
       "model_id": "d8fdca5779cf4c5089e70802120990e1",
       "version_major": 2,
       "version_minor": 0
      },
      "text/plain": [
       "Tab(children=(Box(children=(FigureWidget({\n",
       "    'data': [{'marker': {'color': 'green'},\n",
       "              'mode': '…"
      ]
     },
     "metadata": {},
     "output_type": "display_data"
    }
   ],
   "source": [
    "plot_tab"
   ]
  },
  {
   "cell_type": "code",
   "execution_count": 71,
   "metadata": {},
   "outputs": [
    {
     "ename": "TraitError",
     "evalue": "The '_titles' trait of a Tab instance expected a dict, not the list ['Word', 'Document'].",
     "output_type": "error",
     "traceback": [
      "\u001b[1;31m---------------------------------------------------------------------------\u001b[0m",
      "\u001b[1;31mTraitError\u001b[0m                                Traceback (most recent call last)",
      "\u001b[1;32mc:\\Users\\tobia\\Programming\\SODAS-KU\\w2v_widget\\src\\test.ipynb Cell 31'\u001b[0m in \u001b[0;36m<cell line: 1>\u001b[1;34m()\u001b[0m\n\u001b[1;32m----> <a href='vscode-notebook-cell:/c%3A/Users/tobia/Programming/SODAS-KU/w2v_widget/src/test.ipynb#ch0000101?line=0'>1</a>\u001b[0m wv_widget\u001b[39m.\u001b[39mplot_tab\u001b[39m.\u001b[39m_titles \u001b[39m=\u001b[39m [\u001b[39m'\u001b[39m\u001b[39mWord\u001b[39m\u001b[39m'\u001b[39m, \u001b[39m'\u001b[39m\u001b[39mDocument\u001b[39m\u001b[39m'\u001b[39m]\n",
      "File \u001b[1;32m~\\anaconda3\\envs\\w2widget\\lib\\site-packages\\traitlets\\traitlets.py:606\u001b[0m, in \u001b[0;36mTraitType.__set__\u001b[1;34m(self, obj, value)\u001b[0m\n\u001b[0;32m    <a href='file:///c%3A/Users/tobia/anaconda3/envs/w2widget/lib/site-packages/traitlets/traitlets.py?line=603'>604</a>\u001b[0m     \u001b[39mraise\u001b[39;00m TraitError(\u001b[39m'\u001b[39m\u001b[39mThe \u001b[39m\u001b[39m\"\u001b[39m\u001b[39m%s\u001b[39;00m\u001b[39m\"\u001b[39m\u001b[39m trait is read-only.\u001b[39m\u001b[39m'\u001b[39m \u001b[39m%\u001b[39m \u001b[39mself\u001b[39m\u001b[39m.\u001b[39mname)\n\u001b[0;32m    <a href='file:///c%3A/Users/tobia/anaconda3/envs/w2widget/lib/site-packages/traitlets/traitlets.py?line=604'>605</a>\u001b[0m \u001b[39melse\u001b[39;00m:\n\u001b[1;32m--> <a href='file:///c%3A/Users/tobia/anaconda3/envs/w2widget/lib/site-packages/traitlets/traitlets.py?line=605'>606</a>\u001b[0m     \u001b[39mself\u001b[39;49m\u001b[39m.\u001b[39;49mset(obj, value)\n",
      "File \u001b[1;32m~\\anaconda3\\envs\\w2widget\\lib\\site-packages\\traitlets\\traitlets.py:580\u001b[0m, in \u001b[0;36mTraitType.set\u001b[1;34m(self, obj, value)\u001b[0m\n\u001b[0;32m    <a href='file:///c%3A/Users/tobia/anaconda3/envs/w2widget/lib/site-packages/traitlets/traitlets.py?line=578'>579</a>\u001b[0m \u001b[39mdef\u001b[39;00m \u001b[39mset\u001b[39m(\u001b[39mself\u001b[39m, obj, value):\n\u001b[1;32m--> <a href='file:///c%3A/Users/tobia/anaconda3/envs/w2widget/lib/site-packages/traitlets/traitlets.py?line=579'>580</a>\u001b[0m     new_value \u001b[39m=\u001b[39m \u001b[39mself\u001b[39;49m\u001b[39m.\u001b[39;49m_validate(obj, value)\n\u001b[0;32m    <a href='file:///c%3A/Users/tobia/anaconda3/envs/w2widget/lib/site-packages/traitlets/traitlets.py?line=580'>581</a>\u001b[0m     \u001b[39mtry\u001b[39;00m:\n\u001b[0;32m    <a href='file:///c%3A/Users/tobia/anaconda3/envs/w2widget/lib/site-packages/traitlets/traitlets.py?line=581'>582</a>\u001b[0m         old_value \u001b[39m=\u001b[39m obj\u001b[39m.\u001b[39m_trait_values[\u001b[39mself\u001b[39m\u001b[39m.\u001b[39mname]\n",
      "File \u001b[1;32m~\\anaconda3\\envs\\w2widget\\lib\\site-packages\\traitlets\\traitlets.py:612\u001b[0m, in \u001b[0;36mTraitType._validate\u001b[1;34m(self, obj, value)\u001b[0m\n\u001b[0;32m    <a href='file:///c%3A/Users/tobia/anaconda3/envs/w2widget/lib/site-packages/traitlets/traitlets.py?line=609'>610</a>\u001b[0m     \u001b[39mreturn\u001b[39;00m value\n\u001b[0;32m    <a href='file:///c%3A/Users/tobia/anaconda3/envs/w2widget/lib/site-packages/traitlets/traitlets.py?line=610'>611</a>\u001b[0m \u001b[39mif\u001b[39;00m \u001b[39mhasattr\u001b[39m(\u001b[39mself\u001b[39m, \u001b[39m'\u001b[39m\u001b[39mvalidate\u001b[39m\u001b[39m'\u001b[39m):\n\u001b[1;32m--> <a href='file:///c%3A/Users/tobia/anaconda3/envs/w2widget/lib/site-packages/traitlets/traitlets.py?line=611'>612</a>\u001b[0m     value \u001b[39m=\u001b[39m \u001b[39mself\u001b[39;49m\u001b[39m.\u001b[39;49mvalidate(obj, value)\n\u001b[0;32m    <a href='file:///c%3A/Users/tobia/anaconda3/envs/w2widget/lib/site-packages/traitlets/traitlets.py?line=612'>613</a>\u001b[0m \u001b[39mif\u001b[39;00m obj\u001b[39m.\u001b[39m_cross_validation_lock \u001b[39mis\u001b[39;00m \u001b[39mFalse\u001b[39;00m:\n\u001b[0;32m    <a href='file:///c%3A/Users/tobia/anaconda3/envs/w2widget/lib/site-packages/traitlets/traitlets.py?line=613'>614</a>\u001b[0m     value \u001b[39m=\u001b[39m \u001b[39mself\u001b[39m\u001b[39m.\u001b[39m_cross_validate(obj, value)\n",
      "File \u001b[1;32m~\\anaconda3\\envs\\w2widget\\lib\\site-packages\\traitlets\\traitlets.py:2965\u001b[0m, in \u001b[0;36mDict.validate\u001b[1;34m(self, obj, value)\u001b[0m\n\u001b[0;32m   <a href='file:///c%3A/Users/tobia/anaconda3/envs/w2widget/lib/site-packages/traitlets/traitlets.py?line=2963'>2964</a>\u001b[0m \u001b[39mdef\u001b[39;00m \u001b[39mvalidate\u001b[39m(\u001b[39mself\u001b[39m, obj, value):\n\u001b[1;32m-> <a href='file:///c%3A/Users/tobia/anaconda3/envs/w2widget/lib/site-packages/traitlets/traitlets.py?line=2964'>2965</a>\u001b[0m     value \u001b[39m=\u001b[39m \u001b[39msuper\u001b[39;49m(Dict, \u001b[39mself\u001b[39;49m)\u001b[39m.\u001b[39;49mvalidate(obj, value)\n\u001b[0;32m   <a href='file:///c%3A/Users/tobia/anaconda3/envs/w2widget/lib/site-packages/traitlets/traitlets.py?line=2965'>2966</a>\u001b[0m     \u001b[39mif\u001b[39;00m value \u001b[39mis\u001b[39;00m \u001b[39mNone\u001b[39;00m:\n\u001b[0;32m   <a href='file:///c%3A/Users/tobia/anaconda3/envs/w2widget/lib/site-packages/traitlets/traitlets.py?line=2966'>2967</a>\u001b[0m         \u001b[39mreturn\u001b[39;00m value\n",
      "File \u001b[1;32m~\\anaconda3\\envs\\w2widget\\lib\\site-packages\\traitlets\\traitlets.py:1851\u001b[0m, in \u001b[0;36mInstance.validate\u001b[1;34m(self, obj, value)\u001b[0m\n\u001b[0;32m   <a href='file:///c%3A/Users/tobia/anaconda3/envs/w2widget/lib/site-packages/traitlets/traitlets.py?line=1848'>1849</a>\u001b[0m     \u001b[39mreturn\u001b[39;00m value\n\u001b[0;32m   <a href='file:///c%3A/Users/tobia/anaconda3/envs/w2widget/lib/site-packages/traitlets/traitlets.py?line=1849'>1850</a>\u001b[0m \u001b[39melse\u001b[39;00m:\n\u001b[1;32m-> <a href='file:///c%3A/Users/tobia/anaconda3/envs/w2widget/lib/site-packages/traitlets/traitlets.py?line=1850'>1851</a>\u001b[0m     \u001b[39mself\u001b[39;49m\u001b[39m.\u001b[39;49merror(obj, value)\n",
      "File \u001b[1;32m~\\anaconda3\\envs\\w2widget\\lib\\site-packages\\traitlets\\traitlets.py:692\u001b[0m, in \u001b[0;36mTraitType.error\u001b[1;34m(self, obj, value, error, info)\u001b[0m\n\u001b[0;32m    <a href='file:///c%3A/Users/tobia/anaconda3/envs/w2widget/lib/site-packages/traitlets/traitlets.py?line=688'>689</a>\u001b[0m \u001b[39melse\u001b[39;00m:\n\u001b[0;32m    <a href='file:///c%3A/Users/tobia/anaconda3/envs/w2widget/lib/site-packages/traitlets/traitlets.py?line=689'>690</a>\u001b[0m     e \u001b[39m=\u001b[39m \u001b[39m\"\u001b[39m\u001b[39mThe \u001b[39m\u001b[39m'\u001b[39m\u001b[39m%s\u001b[39;00m\u001b[39m'\u001b[39m\u001b[39m trait expected \u001b[39m\u001b[39m%s\u001b[39;00m\u001b[39m, not \u001b[39m\u001b[39m%s\u001b[39;00m\u001b[39m.\u001b[39m\u001b[39m\"\u001b[39m \u001b[39m%\u001b[39m (\n\u001b[0;32m    <a href='file:///c%3A/Users/tobia/anaconda3/envs/w2widget/lib/site-packages/traitlets/traitlets.py?line=690'>691</a>\u001b[0m         \u001b[39mself\u001b[39m\u001b[39m.\u001b[39mname, \u001b[39mself\u001b[39m\u001b[39m.\u001b[39minfo(), describe(\u001b[39m\"\u001b[39m\u001b[39mthe\u001b[39m\u001b[39m\"\u001b[39m, value))\n\u001b[1;32m--> <a href='file:///c%3A/Users/tobia/anaconda3/envs/w2widget/lib/site-packages/traitlets/traitlets.py?line=691'>692</a>\u001b[0m \u001b[39mraise\u001b[39;00m TraitError(e)\n",
      "\u001b[1;31mTraitError\u001b[0m: The '_titles' trait of a Tab instance expected a dict, not the list ['Word', 'Document']."
     ]
    }
   ],
   "source": [
    "wv_widget.plot_tab._titles = ['Word', 'Document']"
   ]
  },
  {
   "cell_type": "code",
   "execution_count": 74,
   "metadata": {},
   "outputs": [],
   "source": [
    "import ipywidgets"
   ]
  },
  {
   "cell_type": "code",
   "execution_count": 67,
   "metadata": {},
   "outputs": [
    {
     "data": {
      "application/vnd.jupyter.widget-view+json": {
       "model_id": "546d83f4626d4d31b5f1571d96f6430e",
       "version_major": 2,
       "version_minor": 0
      },
      "text/plain": [
       "Tab(layout=Layout(margin='0px 50px 0px 0px'))"
      ]
     },
     "metadata": {},
     "output_type": "display_data"
    }
   ],
   "source": [
    "wv_widget.plot_tab"
   ]
  },
  {
   "cell_type": "code",
   "execution_count": 59,
   "metadata": {},
   "outputs": [
    {
     "data": {
      "text/plain": [
       "(FigureWidget({\n",
       "     'data': [{'marker': {'color': 'green'},\n",
       "               'mode': 'markers',\n",
       "               'name': 'Similar',\n",
       "               'text': [],\n",
       "               'type': 'scatter',\n",
       "               'uid': '725b2e07-3bb6-4af9-a46b-6fa610bb1873',\n",
       "               'x': array([], dtype=float64),\n",
       "               'y': array([], dtype=float64)},\n",
       "              {'marker': {'color': 'blue'},\n",
       "               'mode': 'markers',\n",
       "               'name': 'Query',\n",
       "               'text': [],\n",
       "               'type': 'scatter',\n",
       "               'uid': '638ba9d4-b17f-4020-8ede-9186d39ccb33',\n",
       "               'x': array([], dtype=float64),\n",
       "               'y': array([], dtype=float64)},\n",
       "              {'marker': {'color': 'orange'},\n",
       "               'mode': 'markers',\n",
       "               'name': 'Topic',\n",
       "               'text': [],\n",
       "               'type': 'scatter',\n",
       "               'uid': '2b97e341-c636-4f0c-bef9-17eb145c48fe',\n",
       "               'x': array([], dtype=float64),\n",
       "               'y': array([], dtype=float64)},\n",
       "              {'marker': {'color': 'grey'},\n",
       "               'mode': 'markers',\n",
       "               'name': 'Skipped',\n",
       "               'text': [],\n",
       "               'type': 'scatter',\n",
       "               'uid': 'b2345284-4b11-4b95-990e-dd6422e8eab8',\n",
       "               'x': array([], dtype=float64),\n",
       "               'y': array([], dtype=float64)},\n",
       "              {'marker': {'color': 'red'},\n",
       "               'mode': 'markers',\n",
       "               'name': 'Not',\n",
       "               'text': [],\n",
       "               'type': 'scatter',\n",
       "               'uid': 'c73804b8-9c30-44a2-bdee-991d21bf7c23',\n",
       "               'x': array([], dtype=float64),\n",
       "               'y': array([], dtype=float64)}],\n",
       "     'layout': {'autosize': True,\n",
       "                'legend': {'font': {'size': 15}, 'x': 0.99, 'xanchor': 'right', 'y': 0.99, 'yanchor': 'top'},\n",
       "                'margin': {'b': 0, 'l': 0, 'r': 0, 't': 50},\n",
       "                'template': '...',\n",
       "                'title': {'text': 'Embedding of word2vec-space'},\n",
       "                'xaxis': {'range': [-48.3220734694657, 48.3220734694657]},\n",
       "                'yaxis': {'range': [-47.70039596699692, 47.70039596699692]}}\n",
       " }),\n",
       " FigureWidget({\n",
       "     'data': [],\n",
       "     'layout': {'legend': {'font': {'size': 15}, 'x': 0.99, 'xanchor': 'right', 'y': 0.99, 'yanchor': 'top'},\n",
       "                'margin': {'b': 0, 'l': 0, 'r': 0, 't': 50},\n",
       "                'template': '...',\n",
       "                'title': {'text': 'Embedding of doc2vec-space'},\n",
       "                'xaxis': {'range': [-3.7059964905718457, 3.696414795085834]},\n",
       "                'yaxis': {'range': [-2.428758140279245, 2.4656220641932256]}}\n",
       " }))"
      ]
     },
     "execution_count": 59,
     "metadata": {},
     "output_type": "execute_result"
    }
   ],
   "source": [
    ", wv_widget.dv_figure_widget"
   ]
  },
  {
   "cell_type": "code",
   "execution_count": 25,
   "metadata": {},
   "outputs": [],
   "source": [
    "from IPython.display import display\n",
    "import ipywidgets as widgets"
   ]
  },
  {
   "cell_type": "code",
   "execution_count": 46,
   "metadata": {},
   "outputs": [],
   "source": [
    "tab = widgets.Tab()"
   ]
  },
  {
   "cell_type": "code",
   "execution_count": 47,
   "metadata": {},
   "outputs": [
    {
     "data": {
      "application/vnd.jupyter.widget-view+json": {
       "model_id": "54407361686a4dbb8e4b86da6bc5530c",
       "version_major": 2,
       "version_minor": 0
      },
      "text/plain": [
       "Tab()"
      ]
     },
     "metadata": {},
     "output_type": "display_data"
    }
   ],
   "source": [
    "tab"
   ]
  },
  {
   "cell_type": "code",
   "execution_count": 49,
   "metadata": {},
   "outputs": [],
   "source": [
    "tab.children = [widgets.Text(x) for x in ['x1', 'x2']]"
   ]
  },
  {
   "cell_type": "code",
   "execution_count": 54,
   "metadata": {},
   "outputs": [
    {
     "data": {
      "application/vnd.jupyter.widget-view+json": {
       "model_id": "0b573fac1b4c456481812852a66e4dee",
       "version_major": 2,
       "version_minor": 0
      },
      "text/plain": [
       "GridBox(children=(Tab(children=(Text(value='x1'), Text(value='x2'))), Text(value='test')))"
      ]
     },
     "metadata": {},
     "output_type": "display_data"
    }
   ],
   "source": [
    "widgets.GridBox([tab, widgets.Text('test')])"
   ]
  },
  {
   "cell_type": "code",
   "execution_count": 42,
   "metadata": {},
   "outputs": [
    {
     "data": {
      "application/vnd.jupyter.widget-view+json": {
       "model_id": "cd4b9b39f5df4abf9d2c1f9d07bb8b67",
       "version_major": 2,
       "version_minor": 0
      },
      "text/plain": [
       "Box(children=(Tab(children=(FigureWidget({\n",
       "    'data': [{'marker': {'color': 'green'},\n",
       "              'mode': '…"
      ]
     },
     "metadata": {},
     "output_type": "display_data"
    }
   ],
   "source": [
    "widgets.Box(wv_widget.plot_tab, style={'margin':0, 'padding':0})"
   ]
  },
  {
   "cell_type": "code",
   "execution_count": 142,
   "metadata": {},
   "outputs": [
    {
     "ename": "TypeError",
     "evalue": "generate_plot_figure() got an unexpected keyword argument 'xy_range'",
     "output_type": "error",
     "traceback": [
      "\u001b[1;31m---------------------------------------------------------------------------\u001b[0m",
      "\u001b[1;31mTypeError\u001b[0m                                 Traceback (most recent call last)",
      "\u001b[1;32mc:\\Users\\tobia\\Programming\\SODAS-KU\\w2v_widget\\src\\test.ipynb Cell 30'\u001b[0m in \u001b[0;36m<cell line: 1>\u001b[1;34m()\u001b[0m\n\u001b[1;32m----> <a href='vscode-notebook-cell:/c%3A/Users/tobia/Programming/SODAS-KU/w2v_widget/src/test.ipynb#ch0000086?line=0'>1</a>\u001b[0m wv_widget\u001b[39m.\u001b[39;49mgenerate_plot_figure(\n\u001b[0;32m      <a href='vscode-notebook-cell:/c%3A/Users/tobia/Programming/SODAS-KU/w2v_widget/src/test.ipynb#ch0000086?line=1'>2</a>\u001b[0m     \u001b[39m\"\u001b[39;49m\u001b[39mEmbedding of doc2vec-space\u001b[39;49m\u001b[39m\"\u001b[39;49m,\n\u001b[0;32m      <a href='vscode-notebook-cell:/c%3A/Users/tobia/Programming/SODAS-KU/w2v_widget/src/test.ipynb#ch0000086?line=2'>3</a>\u001b[0m     xy_range \u001b[39m=\u001b[39;49m wv_widget\u001b[39m.\u001b[39;49mdv_get_axis_range()\n\u001b[0;32m      <a href='vscode-notebook-cell:/c%3A/Users/tobia/Programming/SODAS-KU/w2v_widget/src/test.ipynb#ch0000086?line=3'>4</a>\u001b[0m )\n",
      "\u001b[1;31mTypeError\u001b[0m: generate_plot_figure() got an unexpected keyword argument 'xy_range'"
     ]
    }
   ],
   "source": [
    "wv_widget.generate_plot_figure(\n",
    "    \"Embedding of doc2vec-space\",\n",
    "    xy_range = wv_widget.dv_get_axis_range()\n",
    ")"
   ]
  },
  {
   "cell_type": "code",
   "execution_count": 138,
   "metadata": {},
   "outputs": [
    {
     "data": {
      "text/plain": [
       "(PartialTSNEEmbedding([ 1.4241119 ,  1.57582199,  0.87745116,  1.58169787,\n",
       "                        1.25462676,  1.54895266,  1.07024655,  0.53830533,\n",
       "                        0.6841267 ,  0.78573008,  0.81127594,  0.90592049,\n",
       "                        1.14196477,  0.02201661, -0.26609285,  0.98473553,\n",
       "                        0.86947298, -0.00229526, -1.00784356,  1.55266983,\n",
       "                       -0.20643438,  0.44639983,  0.46315278, -0.19492664,\n",
       "                        0.0435651 , -0.29481291,  0.04428599, -0.37549166,\n",
       "                       -0.16064737, -0.15761923, -0.68825903,  0.08589982,\n",
       "                       -0.25373281, -0.94174959, -0.44463227, -0.56580457,\n",
       "                       -0.51645391,  0.00731056,  0.27862024, -1.11932547,\n",
       "                       -1.57258535, -1.24824686, -1.42303123, -1.23983342,\n",
       "                       -0.12657384, -0.28795227,  0.37171875, -0.484488  ,\n",
       "                       -0.49594469, -0.14436149, -0.58453489, -0.3686936 ,\n",
       "                        0.16257177, -0.86745955, -1.12443951, -0.41631963,\n",
       "                       -0.5719941 , -0.70476869, -0.56212345]),\n",
       " PartialTSNEEmbedding([ 2.61610764,  3.69899317,  1.78234969,  2.09312404,\n",
       "                        2.01106436,  2.08956243,  1.02031694,  1.80236276,\n",
       "                        1.24478563,  1.76104723,  3.15710993,  2.51610833,\n",
       "                        1.62963213,  2.03584993,  2.08992911,  3.33406713,\n",
       "                        1.71337198,  1.81738887,  2.34985474,  0.19610901,\n",
       "                        2.61213941,  1.44596185,  2.24219322,  1.38460654,\n",
       "                        2.94679844,  1.65324048,  2.89723648,  1.63717883,\n",
       "                        1.26278123, -0.96825671,  1.48970524, -0.77729688,\n",
       "                       -0.91778703, -0.76988315,  0.21691587,  0.38358067,\n",
       "                       -0.25158033, -1.72031563, -2.13284876, -2.86087871,\n",
       "                       -1.13664719, -1.59559926, -1.62680165, -3.13096779,\n",
       "                       -2.48592635, -2.96458561, -3.23540936, -2.12518646,\n",
       "                       -2.53359068, -2.58043594, -3.16953797, -3.02562217,\n",
       "                       -2.79544072, -2.66236028, -2.40150001, -2.55729013,\n",
       "                       -2.52577123, -3.71857811, -3.47566232]))"
      ]
     },
     "execution_count": 138,
     "metadata": {},
     "output_type": "execute_result"
    }
   ],
   "source": [
    "wv_widget.dv_get_axis_range()"
   ]
  },
  {
   "cell_type": "code",
   "execution_count": 126,
   "metadata": {},
   "outputs": [
    {
     "data": {
      "text/plain": [
       "['god', 'light', 'fire']"
      ]
     },
     "execution_count": 126,
     "metadata": {},
     "output_type": "execute_result"
    }
   ],
   "source": [
    "wv_widget.topic_words"
   ]
  },
  {
   "cell_type": "code",
   "execution_count": 137,
   "metadata": {},
   "outputs": [],
   "source": [
    "wv_widget.add_document_embedding_traces()"
   ]
  },
  {
   "cell_type": "code",
   "execution_count": 133,
   "metadata": {},
   "outputs": [
    {
     "data": {
      "text/plain": [
       "(PartialTSNEEmbedding([ 1.4241119 ,  1.57582199,  0.87745116,  1.58169787,\n",
       "                        1.25462676,  1.54895266,  1.07024655,  0.53830533,\n",
       "                        0.6841267 ,  0.78573008,  0.81127594,  0.90592049,\n",
       "                        1.14196477,  0.02201661, -0.26609285,  0.98473553,\n",
       "                        0.86947298, -0.00229526, -1.00784356,  1.55266983,\n",
       "                       -0.20643438,  0.44639983,  0.46315278, -0.19492664,\n",
       "                        0.0435651 , -0.29481291,  0.04428599, -0.37549166,\n",
       "                       -0.16064737, -0.15761923, -0.68825903,  0.08589982,\n",
       "                       -0.25373281, -0.94174959, -0.44463227, -0.56580457,\n",
       "                       -0.51645391,  0.00731056,  0.27862024, -1.11932547,\n",
       "                       -1.57258535, -1.24824686, -1.42303123, -1.23983342,\n",
       "                       -0.12657384, -0.28795227,  0.37171875, -0.484488  ,\n",
       "                       -0.49594469, -0.14436149, -0.58453489, -0.3686936 ,\n",
       "                        0.16257177, -0.86745955, -1.12443951, -0.41631963,\n",
       "                       -0.5719941 , -0.70476869, -0.56212345]),\n",
       " PartialTSNEEmbedding([ 2.61610764,  3.69899317,  1.78234969,  2.09312404,\n",
       "                        2.01106436,  2.08956243,  1.02031694,  1.80236276,\n",
       "                        1.24478563,  1.76104723,  3.15710993,  2.51610833,\n",
       "                        1.62963213,  2.03584993,  2.08992911,  3.33406713,\n",
       "                        1.71337198,  1.81738887,  2.34985474,  0.19610901,\n",
       "                        2.61213941,  1.44596185,  2.24219322,  1.38460654,\n",
       "                        2.94679844,  1.65324048,  2.89723648,  1.63717883,\n",
       "                        1.26278123, -0.96825671,  1.48970524, -0.77729688,\n",
       "                       -0.91778703, -0.76988315,  0.21691587,  0.38358067,\n",
       "                       -0.25158033, -1.72031563, -2.13284876, -2.86087871,\n",
       "                       -1.13664719, -1.59559926, -1.62680165, -3.13096779,\n",
       "                       -2.48592635, -2.96458561, -3.23540936, -2.12518646,\n",
       "                       -2.53359068, -2.58043594, -3.16953797, -3.02562217,\n",
       "                       -2.79544072, -2.66236028, -2.40150001, -2.55729013,\n",
       "                       -2.52577123, -3.71857811, -3.47566232]))"
      ]
     },
     "execution_count": 133,
     "metadata": {},
     "output_type": "execute_result"
    }
   ],
   "source": [
    "wv_widget.dv_get_axis_range()"
   ]
  },
  {
   "cell_type": "code",
   "execution_count": 23,
   "metadata": {},
   "outputs": [
    {
     "data": {
      "text/plain": [
       "['president', 'george']"
      ]
     },
     "execution_count": 23,
     "metadata": {},
     "output_type": "execute_result"
    }
   ],
   "source": [
    "wv_widget.search_words"
   ]
  },
  {
   "cell_type": "code",
   "execution_count": 141,
   "metadata": {},
   "outputs": [],
   "source": [
    "self = wv_widget"
   ]
  },
  {
   "cell_type": "code",
   "execution_count": 143,
   "metadata": {},
   "outputs": [
    {
     "data": {
      "text/plain": [
       "['vice']"
      ]
     },
     "execution_count": 143,
     "metadata": {},
     "output_type": "execute_result"
    }
   ],
   "source": [
    "self.skip_words"
   ]
  },
  {
   "cell_type": "code",
   "execution_count": 142,
   "metadata": {},
   "outputs": [],
   "source": [
    "self.on_load_button_clicked(change=True)"
   ]
  },
  {
   "cell_type": "code",
   "execution_count": 134,
   "metadata": {},
   "outputs": [
    {
     "data": {
      "text/plain": [
       "[Checkbox(value=True, indent=False),\n",
       " Checkbox(value=False, indent=False),\n",
       " Checkbox(value=False, indent=False),\n",
       " Checkbox(value=True, indent=False),\n",
       " Checkbox(value=True, indent=False),\n",
       " Checkbox(value=False, indent=False),\n",
       " Checkbox(value=False, indent=False),\n",
       " Checkbox(value=False, indent=False),\n",
       " Checkbox(value=False, indent=False),\n",
       " Checkbox(value=False, indent=False)]"
      ]
     },
     "execution_count": 134,
     "metadata": {},
     "output_type": "execute_result"
    }
   ],
   "source": [
    "self.accept_checkboxes"
   ]
  },
  {
   "cell_type": "code",
   "execution_count": 120,
   "metadata": {},
   "outputs": [
    {
     "ename": "AttributeError",
     "evalue": "'bool' object has no attribute 'value'",
     "output_type": "error",
     "traceback": [
      "\u001b[1;31m---------------------------------------------------------------------------\u001b[0m",
      "\u001b[1;31mAttributeError\u001b[0m                            Traceback (most recent call last)",
      "\u001b[1;32mc:\\Users\\tobia\\Programming\\SODAS-KU\\w2v_widget\\src\\test.ipynb Cell 25'\u001b[0m in \u001b[0;36m<cell line: 1>\u001b[1;34m()\u001b[0m\n\u001b[1;32m----> <a href='vscode-notebook-cell:/c%3A/Users/tobia/Programming/SODAS-KU/w2v_widget/src/test.ipynb#ch0000050?line=0'>1</a>\u001b[0m \u001b[39mself\u001b[39;49m\u001b[39m.\u001b[39;49mupdate_output()\n",
      "File \u001b[1;32mc:\\Users\\tobia\\Programming\\SODAS-KU\\w2v_widget\\src\\w2v_widget\\widget.py:472\u001b[0m, in \u001b[0;36mWVWidget.update_output\u001b[1;34m(self)\u001b[0m\n\u001b[0;32m    <a href='file:///c%3A/Users/tobia/Programming/SODAS-KU/w2v_widget/src/w2v_widget/widget.py?line=469'>470</a>\u001b[0m \u001b[39mdef\u001b[39;00m \u001b[39mupdate_output\u001b[39m(\u001b[39mself\u001b[39m):\n\u001b[0;32m    <a href='file:///c%3A/Users/tobia/Programming/SODAS-KU/w2v_widget/src/w2v_widget/widget.py?line=470'>471</a>\u001b[0m     \u001b[39m# Create new checkboxes based on the new most similar words\u001b[39;00m\n\u001b[1;32m--> <a href='file:///c%3A/Users/tobia/Programming/SODAS-KU/w2v_widget/src/w2v_widget/widget.py?line=471'>472</a>\u001b[0m     \u001b[39mself\u001b[39;49m\u001b[39m.\u001b[39;49mupdate_checkboxes()\n\u001b[0;32m    <a href='file:///c%3A/Users/tobia/Programming/SODAS-KU/w2v_widget/src/w2v_widget/widget.py?line=473'>474</a>\u001b[0m     \u001b[39m# Update search menu\u001b[39;00m\n\u001b[0;32m    <a href='file:///c%3A/Users/tobia/Programming/SODAS-KU/w2v_widget/src/w2v_widget/widget.py?line=474'>475</a>\u001b[0m     \u001b[39mself\u001b[39m\u001b[39m.\u001b[39mupdate_search_menu()\n",
      "File \u001b[1;32mc:\\Users\\tobia\\Programming\\SODAS-KU\\w2v_widget\\src\\w2v_widget\\widget.py:329\u001b[0m, in \u001b[0;36mWVWidget.update_checkboxes\u001b[1;34m(self)\u001b[0m\n\u001b[0;32m    <a href='file:///c%3A/Users/tobia/Programming/SODAS-KU/w2v_widget/src/w2v_widget/widget.py?line=323'>324</a>\u001b[0m new_words \u001b[39m=\u001b[39m \u001b[39mself\u001b[39m\u001b[39m.\u001b[39mwv_model\u001b[39m.\u001b[39mfiltered_similar(\n\u001b[0;32m    <a href='file:///c%3A/Users/tobia/Programming/SODAS-KU/w2v_widget/src/w2v_widget/widget.py?line=324'>325</a>\u001b[0m     \u001b[39mself\u001b[39m\u001b[39m.\u001b[39msearch_words, \u001b[39mself\u001b[39m\u001b[39m.\u001b[39mnegative_words, \u001b[39mself\u001b[39m\u001b[39m.\u001b[39mtopic_words\n\u001b[0;32m    <a href='file:///c%3A/Users/tobia/Programming/SODAS-KU/w2v_widget/src/w2v_widget/widget.py?line=325'>326</a>\u001b[0m )\n\u001b[0;32m    <a href='file:///c%3A/Users/tobia/Programming/SODAS-KU/w2v_widget/src/w2v_widget/widget.py?line=327'>328</a>\u001b[0m \u001b[39mfor\u001b[39;00m i \u001b[39min\u001b[39;00m \u001b[39mrange\u001b[39m(\u001b[39m10\u001b[39m):\n\u001b[1;32m--> <a href='file:///c%3A/Users/tobia/Programming/SODAS-KU/w2v_widget/src/w2v_widget/widget.py?line=328'>329</a>\u001b[0m     \u001b[39mself\u001b[39m\u001b[39m.\u001b[39maccept_checkboxes[i]\u001b[39m.\u001b[39mvalue \u001b[39m=\u001b[39m \u001b[39mFalse\u001b[39;00m\n\u001b[0;32m    <a href='file:///c%3A/Users/tobia/Programming/SODAS-KU/w2v_widget/src/w2v_widget/widget.py?line=329'>330</a>\u001b[0m     \u001b[39mself\u001b[39m\u001b[39m.\u001b[39mnot_checkboxes[i]\u001b[39m.\u001b[39mvalue \u001b[39m=\u001b[39m \u001b[39mFalse\u001b[39;00m\n\u001b[0;32m    <a href='file:///c%3A/Users/tobia/Programming/SODAS-KU/w2v_widget/src/w2v_widget/widget.py?line=330'>331</a>\u001b[0m     \u001b[39mself\u001b[39m\u001b[39m.\u001b[39mdecline_checkboxes[i]\u001b[39m.\u001b[39mvalue \u001b[39m=\u001b[39m \u001b[39mFalse\u001b[39;00m\n",
      "\u001b[1;31mAttributeError\u001b[0m: 'bool' object has no attribute 'value'"
     ]
    }
   ],
   "source": [
    "self.update_output()"
   ]
  },
  {
   "cell_type": "code",
   "execution_count": 118,
   "metadata": {},
   "outputs": [
    {
     "data": {
      "text/plain": [
       "('possibility',)"
      ]
     },
     "execution_count": 118,
     "metadata": {},
     "output_type": "execute_result"
    }
   ],
   "source": [
    "self.search_menu.value"
   ]
  },
  {
   "cell_type": "code",
   "execution_count": 116,
   "metadata": {},
   "outputs": [
    {
     "data": {
      "text/plain": [
       "[]"
      ]
     },
     "execution_count": 116,
     "metadata": {},
     "output_type": "execute_result"
    }
   ],
   "source": [
    "[\n",
    "    word for word in self.search_words if word not in self.search_menu.value\n",
    "]"
   ]
  },
  {
   "cell_type": "code",
   "execution_count": 108,
   "metadata": {},
   "outputs": [],
   "source": [
    "if '':\n",
    "    print('h')"
   ]
  },
  {
   "cell_type": "code",
   "execution_count": 87,
   "metadata": {},
   "outputs": [
    {
     "data": {
      "text/plain": [
       "['vice (0.47)',\n",
       " 'senator (0.45)',\n",
       " 'citizens: (0.43)',\n",
       " 'ceremony (0.42)',\n",
       " 'congress, (0.42)',\n",
       " 'transfer (0.41)',\n",
       " 'bush, (0.41)',\n",
       " 'predecessor, (0.4)',\n",
       " 'presence (0.4)',\n",
       " 'appoint (0.4)']"
      ]
     },
     "execution_count": 87,
     "metadata": {},
     "output_type": "execute_result"
    }
   ],
   "source": [
    "[label.value for label in wv_widget.checkboxes_text]"
   ]
  }
 ],
 "metadata": {
  "interpreter": {
   "hash": "8e2a475464f440071836fb2484c1f18022c40fe4978b9f598096cd826617382f"
  },
  "kernelspec": {
   "display_name": "Python 3.9.10 ('venv': venv)",
   "language": "python",
   "name": "python3"
  },
  "language_info": {
   "codemirror_mode": {
    "name": "ipython",
    "version": 3
   },
   "file_extension": ".py",
   "mimetype": "text/x-python",
   "name": "python",
   "nbconvert_exporter": "python",
   "pygments_lexer": "ipython3",
   "version": "3.8.13"
  },
  "orig_nbformat": 4
 },
 "nbformat": 4,
 "nbformat_minor": 2
}
