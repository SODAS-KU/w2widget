{
 "cells": [
  {
   "cell_type": "markdown",
   "metadata": {},
   "source": [
    "# w2widget\n",
    "*Words to Widget*"
   ]
  },
  {
   "cell_type": "markdown",
   "metadata": {},
   "source": [
    "Import widget"
   ]
  },
  {
   "cell_type": "code",
   "execution_count": 2,
   "metadata": {},
   "outputs": [],
   "source": [
    "%load_ext autoreload\n",
    "%autoreload 1"
   ]
  },
  {
   "cell_type": "code",
   "execution_count": 3,
   "metadata": {},
   "outputs": [],
   "source": [
    "from w2v_widget.widget import WVWidget\n",
    "%aimport w2v_widget.widget"
   ]
  },
  {
   "cell_type": "markdown",
   "metadata": {},
   "source": [
    "## Load data"
   ]
  },
  {
   "cell_type": "code",
   "execution_count": 4,
   "metadata": {},
   "outputs": [],
   "source": [
    "from nltk.corpus import inaugural, reuters\n",
    "# import nltk\n",
    "# nltk.download('inaugural')"
   ]
  },
  {
   "cell_type": "markdown",
   "metadata": {},
   "source": [
    "### Reuters"
   ]
  },
  {
   "cell_type": "code",
   "execution_count": 57,
   "metadata": {},
   "outputs": [],
   "source": [
    "docs = []\n",
    "\n",
    "for path in reuters.fileids():\n",
    "    with reuters.open(path) as f:\n",
    "        docs.append(f.read())"
   ]
  },
  {
   "cell_type": "markdown",
   "metadata": {},
   "source": [
    "### Inaugural speeches"
   ]
  },
  {
   "cell_type": "code",
   "execution_count": 11,
   "metadata": {},
   "outputs": [],
   "source": [
    "docs = []\n",
    "\n",
    "for doc in inaugural.abspaths():\n",
    "    #with open(doc, 'r') as f:\n",
    "    f = inaugural.open(doc)\n",
    "    docs.append(f.read())\n",
    "    f.close()"
   ]
  },
  {
   "cell_type": "markdown",
   "metadata": {},
   "source": [
    "## Train word2vec model"
   ]
  },
  {
   "cell_type": "code",
   "execution_count": 8,
   "metadata": {},
   "outputs": [],
   "source": [
    "from gensim.models import Word2Vec"
   ]
  },
  {
   "cell_type": "code",
   "execution_count": 9,
   "metadata": {},
   "outputs": [],
   "source": [
    "w2v = Word2Vec()"
   ]
  },
  {
   "cell_type": "code",
   "execution_count": 14,
   "metadata": {},
   "outputs": [],
   "source": [
    "wv_model = Word2Vec(\n",
    "    [\n",
    "        [word.lower().strip() for word in doc.split()] for doc in docs\n",
    "    ], vector_size=200, window=10, workers=4, seed=42, epochs=100, min_count=2).wv"
   ]
  },
  {
   "cell_type": "markdown",
   "metadata": {},
   "source": [
    "## Reduce dimensions"
   ]
  },
  {
   "cell_type": "code",
   "execution_count": 17,
   "metadata": {},
   "outputs": [],
   "source": [
    "from sklearn.decomposition import PCA\n",
    "from sklearn.manifold import TSNE"
   ]
  },
  {
   "cell_type": "code",
   "execution_count": 18,
   "metadata": {},
   "outputs": [],
   "source": [
    "normed_vectors = wv_model.get_normed_vectors()"
   ]
  },
  {
   "cell_type": "code",
   "execution_count": 19,
   "metadata": {},
   "outputs": [
    {
     "name": "stdout",
     "output_type": "stream",
     "text": [
      "[t-SNE] Computing 91 nearest neighbors...\n",
      "[t-SNE] Indexed 6777 samples in 0.001s...\n",
      "[t-SNE] Computed neighbors for 6777 samples in 2.055s...\n",
      "[t-SNE] Computed conditional probabilities for sample 1000 / 6777\n",
      "[t-SNE] Computed conditional probabilities for sample 2000 / 6777\n",
      "[t-SNE] Computed conditional probabilities for sample 3000 / 6777\n",
      "[t-SNE] Computed conditional probabilities for sample 4000 / 6777\n",
      "[t-SNE] Computed conditional probabilities for sample 5000 / 6777\n",
      "[t-SNE] Computed conditional probabilities for sample 6000 / 6777\n",
      "[t-SNE] Computed conditional probabilities for sample 6777 / 6777\n",
      "[t-SNE] Mean sigma: 0.244651\n",
      "[t-SNE] KL divergence after 250 iterations with early exaggeration: 99.460617\n",
      "[t-SNE] KL divergence after 1000 iterations: 3.695014\n"
     ]
    }
   ],
   "source": [
    "pca = PCA(n_components=50)\n",
    "pca_embedding = pca.fit_transform(normed_vectors)\n",
    "\n",
    "TSNE_embedding = TSNE(\n",
    "    n_components=2, \n",
    "    learning_rate='auto',\n",
    "    init='random', \n",
    "    random_state=420,\n",
    "    verbose=1\n",
    ").fit_transform(pca_embedding)\n"
   ]
  },
  {
   "cell_type": "code",
   "execution_count": 96,
   "metadata": {},
   "outputs": [
    {
     "data": {
      "text/plain": [
       "[('case', 0.35096365213394165),\n",
       " ('shield', 0.3467693328857422),\n",
       " ('person', 0.3253069519996643),\n",
       " ('congress', 0.3177087604999542),\n",
       " ('veto', 0.30393755435943604),\n",
       " ('not,', 0.2921431064605713),\n",
       " ('neglect', 0.28800955414772034),\n",
       " ('practicable', 0.28466546535491943),\n",
       " ('any', 0.28271952271461487),\n",
       " ('subject', 0.2781681716442108)]"
      ]
     },
     "execution_count": 96,
     "metadata": {},
     "output_type": "execute_result"
    }
   ],
   "source": [
    "wv_model.most_similar(positive='president', negative='vice')"
   ]
  },
  {
   "cell_type": "markdown",
   "metadata": {},
   "source": [
    "## doc2vec\n",
    "\n",
    "https://towardsdatascience.com/word-embeddings-and-document-vectors-when-in-doubt-simplify-8c9aaeec244e\n",
    "\n",
    "https://towardsdatascience.com/document-embedding-techniques-fed3e7a6a25d"
   ]
  },
  {
   "cell_type": "code",
   "execution_count": 24,
   "metadata": {},
   "outputs": [
    {
     "name": "stderr",
     "output_type": "stream",
     "text": [
      "c:\\Users\\tobia\\Programming\\SODAS-KU\\w2v_widget\\src\\w2v_widget\\utils.py:2: TqdmExperimentalWarning:\n",
      "\n",
      "Using `tqdm.autonotebook.tqdm` in notebook mode. Use `tqdm.tqdm` instead to force console mode (e.g. in jupyter console)\n",
      "\n"
     ]
    }
   ],
   "source": [
    "from w2v_widget.utils import Doc2Vec"
   ]
  },
  {
   "cell_type": "code",
   "execution_count": 90,
   "metadata": {},
   "outputs": [],
   "source": [
    "from collections import Counter\n",
    "from typing import List, Dict\n",
    "\n",
    "def calculate_inverse_frequency(docs:List[List[str]]) -> Dict:\n",
    "    \n",
    "    def word_if(word_count:int, total_count:int):\n",
    "        return 1e-3/(1e-3+word_count/total_count)\n",
    "    \n",
    "    all_words = [x for y in docs for x in y]\n",
    "\n",
    "    c = Counter(all_words)\n",
    "\n",
    "    total_count = len(all_words)\n",
    "    \n",
    "    return {k:word_if(v, total_count) for k,v in c.items()}"
   ]
  },
  {
   "cell_type": "code",
   "execution_count": 91,
   "metadata": {},
   "outputs": [],
   "source": [
    "word_weights = calculate_inverse_frequency([[word.lower().strip() for word in doc.split()] for doc in docs])"
   ]
  },
  {
   "cell_type": "code",
   "execution_count": 92,
   "metadata": {},
   "outputs": [],
   "source": [
    "dv_model = Doc2Vec(wv_model, word_weights)"
   ]
  },
  {
   "cell_type": "code",
   "execution_count": 93,
   "metadata": {},
   "outputs": [
    {
     "data": {
      "application/vnd.jupyter.widget-view+json": {
       "model_id": "eb7b6e5819264249a079c58d4ad8886c",
       "version_major": 2,
       "version_minor": 0
      },
      "text/plain": [
       "  0%|          | 0/59 [00:00<?, ?it/s]"
      ]
     },
     "metadata": {},
     "output_type": "display_data"
    }
   ],
   "source": [
    "dv_model.add_doc2vec([[word.lower().strip() for word in doc.split()] for doc in docs])"
   ]
  },
  {
   "cell_type": "code",
   "execution_count": 94,
   "metadata": {},
   "outputs": [
    {
     "data": {
      "text/plain": [
       "[(8, 1.273523746656745),\n",
       " (30, 1.2454017719649713),\n",
       " (13, 1.207218891605),\n",
       " (17, 1.1891012644183097),\n",
       " (7, 1.187252786978486),\n",
       " (27, 1.181893240558797),\n",
       " (14, 1.1817671276666513),\n",
       " (9, 1.1785176445330041),\n",
       " (6, 1.1768039409951228),\n",
       " (2, 1.1673041927314738)]"
      ]
     },
     "execution_count": 94,
     "metadata": {},
     "output_type": "execute_result"
    }
   ],
   "source": [
    "dv_model.most_similar(['light', 'god'])"
   ]
  },
  {
   "cell_type": "markdown",
   "metadata": {},
   "source": [
    "## Display widget"
   ]
  },
  {
   "cell_type": "code",
   "execution_count": 20,
   "metadata": {},
   "outputs": [],
   "source": [
    "wv_widget = WVWidget(wv_model=wv_model,\n",
    "         two_dim_word_embedding=TSNE_embedding, \n",
    "         two_dim_doc_embedding=None, \n",
    "         tokens_with_ws=None)"
   ]
  },
  {
   "cell_type": "code",
   "execution_count": 21,
   "metadata": {},
   "outputs": [
    {
     "data": {
      "application/vnd.jupyter.widget-view+json": {
       "model_id": "9b819de8ea9d41769de61dc76cab2e19",
       "version_major": 2,
       "version_minor": 0
      },
      "text/plain": [
       "VBox(children=(HTML(value='<style>\\n.widget-button {\\n    margin-right: 160px;\\n}\\n\\n.widget-select-multiple {…"
      ]
     },
     "metadata": {},
     "output_type": "display_data"
    }
   ],
   "source": [
    "wv_widget.display_widget()"
   ]
  },
  {
   "cell_type": "code",
   "execution_count": 23,
   "metadata": {},
   "outputs": [
    {
     "data": {
      "text/plain": [
       "['president', 'george']"
      ]
     },
     "execution_count": 23,
     "metadata": {},
     "output_type": "execute_result"
    }
   ],
   "source": [
    "wv_widget.search_words"
   ]
  },
  {
   "cell_type": "code",
   "execution_count": 141,
   "metadata": {},
   "outputs": [],
   "source": [
    "self = wv_widget"
   ]
  },
  {
   "cell_type": "code",
   "execution_count": 143,
   "metadata": {},
   "outputs": [
    {
     "data": {
      "text/plain": [
       "['vice']"
      ]
     },
     "execution_count": 143,
     "metadata": {},
     "output_type": "execute_result"
    }
   ],
   "source": [
    "self.skip_words"
   ]
  },
  {
   "cell_type": "code",
   "execution_count": 142,
   "metadata": {},
   "outputs": [],
   "source": [
    "self.on_load_button_clicked(change=True)"
   ]
  },
  {
   "cell_type": "code",
   "execution_count": 134,
   "metadata": {},
   "outputs": [
    {
     "data": {
      "text/plain": [
       "[Checkbox(value=True, indent=False),\n",
       " Checkbox(value=False, indent=False),\n",
       " Checkbox(value=False, indent=False),\n",
       " Checkbox(value=True, indent=False),\n",
       " Checkbox(value=True, indent=False),\n",
       " Checkbox(value=False, indent=False),\n",
       " Checkbox(value=False, indent=False),\n",
       " Checkbox(value=False, indent=False),\n",
       " Checkbox(value=False, indent=False),\n",
       " Checkbox(value=False, indent=False)]"
      ]
     },
     "execution_count": 134,
     "metadata": {},
     "output_type": "execute_result"
    }
   ],
   "source": [
    "self.accept_checkboxes"
   ]
  },
  {
   "cell_type": "code",
   "execution_count": 120,
   "metadata": {},
   "outputs": [
    {
     "ename": "AttributeError",
     "evalue": "'bool' object has no attribute 'value'",
     "output_type": "error",
     "traceback": [
      "\u001b[1;31m---------------------------------------------------------------------------\u001b[0m",
      "\u001b[1;31mAttributeError\u001b[0m                            Traceback (most recent call last)",
      "\u001b[1;32mc:\\Users\\tobia\\Programming\\SODAS-KU\\w2v_widget\\src\\test.ipynb Cell 25'\u001b[0m in \u001b[0;36m<cell line: 1>\u001b[1;34m()\u001b[0m\n\u001b[1;32m----> <a href='vscode-notebook-cell:/c%3A/Users/tobia/Programming/SODAS-KU/w2v_widget/src/test.ipynb#ch0000050?line=0'>1</a>\u001b[0m \u001b[39mself\u001b[39;49m\u001b[39m.\u001b[39;49mupdate_output()\n",
      "File \u001b[1;32mc:\\Users\\tobia\\Programming\\SODAS-KU\\w2v_widget\\src\\w2v_widget\\widget.py:472\u001b[0m, in \u001b[0;36mWVWidget.update_output\u001b[1;34m(self)\u001b[0m\n\u001b[0;32m    <a href='file:///c%3A/Users/tobia/Programming/SODAS-KU/w2v_widget/src/w2v_widget/widget.py?line=469'>470</a>\u001b[0m \u001b[39mdef\u001b[39;00m \u001b[39mupdate_output\u001b[39m(\u001b[39mself\u001b[39m):\n\u001b[0;32m    <a href='file:///c%3A/Users/tobia/Programming/SODAS-KU/w2v_widget/src/w2v_widget/widget.py?line=470'>471</a>\u001b[0m     \u001b[39m# Create new checkboxes based on the new most similar words\u001b[39;00m\n\u001b[1;32m--> <a href='file:///c%3A/Users/tobia/Programming/SODAS-KU/w2v_widget/src/w2v_widget/widget.py?line=471'>472</a>\u001b[0m     \u001b[39mself\u001b[39;49m\u001b[39m.\u001b[39;49mupdate_checkboxes()\n\u001b[0;32m    <a href='file:///c%3A/Users/tobia/Programming/SODAS-KU/w2v_widget/src/w2v_widget/widget.py?line=473'>474</a>\u001b[0m     \u001b[39m# Update search menu\u001b[39;00m\n\u001b[0;32m    <a href='file:///c%3A/Users/tobia/Programming/SODAS-KU/w2v_widget/src/w2v_widget/widget.py?line=474'>475</a>\u001b[0m     \u001b[39mself\u001b[39m\u001b[39m.\u001b[39mupdate_search_menu()\n",
      "File \u001b[1;32mc:\\Users\\tobia\\Programming\\SODAS-KU\\w2v_widget\\src\\w2v_widget\\widget.py:329\u001b[0m, in \u001b[0;36mWVWidget.update_checkboxes\u001b[1;34m(self)\u001b[0m\n\u001b[0;32m    <a href='file:///c%3A/Users/tobia/Programming/SODAS-KU/w2v_widget/src/w2v_widget/widget.py?line=323'>324</a>\u001b[0m new_words \u001b[39m=\u001b[39m \u001b[39mself\u001b[39m\u001b[39m.\u001b[39mwv_model\u001b[39m.\u001b[39mfiltered_similar(\n\u001b[0;32m    <a href='file:///c%3A/Users/tobia/Programming/SODAS-KU/w2v_widget/src/w2v_widget/widget.py?line=324'>325</a>\u001b[0m     \u001b[39mself\u001b[39m\u001b[39m.\u001b[39msearch_words, \u001b[39mself\u001b[39m\u001b[39m.\u001b[39mnegative_words, \u001b[39mself\u001b[39m\u001b[39m.\u001b[39mtopic_words\n\u001b[0;32m    <a href='file:///c%3A/Users/tobia/Programming/SODAS-KU/w2v_widget/src/w2v_widget/widget.py?line=325'>326</a>\u001b[0m )\n\u001b[0;32m    <a href='file:///c%3A/Users/tobia/Programming/SODAS-KU/w2v_widget/src/w2v_widget/widget.py?line=327'>328</a>\u001b[0m \u001b[39mfor\u001b[39;00m i \u001b[39min\u001b[39;00m \u001b[39mrange\u001b[39m(\u001b[39m10\u001b[39m):\n\u001b[1;32m--> <a href='file:///c%3A/Users/tobia/Programming/SODAS-KU/w2v_widget/src/w2v_widget/widget.py?line=328'>329</a>\u001b[0m     \u001b[39mself\u001b[39m\u001b[39m.\u001b[39maccept_checkboxes[i]\u001b[39m.\u001b[39mvalue \u001b[39m=\u001b[39m \u001b[39mFalse\u001b[39;00m\n\u001b[0;32m    <a href='file:///c%3A/Users/tobia/Programming/SODAS-KU/w2v_widget/src/w2v_widget/widget.py?line=329'>330</a>\u001b[0m     \u001b[39mself\u001b[39m\u001b[39m.\u001b[39mnot_checkboxes[i]\u001b[39m.\u001b[39mvalue \u001b[39m=\u001b[39m \u001b[39mFalse\u001b[39;00m\n\u001b[0;32m    <a href='file:///c%3A/Users/tobia/Programming/SODAS-KU/w2v_widget/src/w2v_widget/widget.py?line=330'>331</a>\u001b[0m     \u001b[39mself\u001b[39m\u001b[39m.\u001b[39mdecline_checkboxes[i]\u001b[39m.\u001b[39mvalue \u001b[39m=\u001b[39m \u001b[39mFalse\u001b[39;00m\n",
      "\u001b[1;31mAttributeError\u001b[0m: 'bool' object has no attribute 'value'"
     ]
    }
   ],
   "source": [
    "self.update_output()"
   ]
  },
  {
   "cell_type": "code",
   "execution_count": 118,
   "metadata": {},
   "outputs": [
    {
     "data": {
      "text/plain": [
       "('possibility',)"
      ]
     },
     "execution_count": 118,
     "metadata": {},
     "output_type": "execute_result"
    }
   ],
   "source": [
    "self.search_menu.value"
   ]
  },
  {
   "cell_type": "code",
   "execution_count": 116,
   "metadata": {},
   "outputs": [
    {
     "data": {
      "text/plain": [
       "[]"
      ]
     },
     "execution_count": 116,
     "metadata": {},
     "output_type": "execute_result"
    }
   ],
   "source": [
    "[\n",
    "    word for word in self.search_words if word not in self.search_menu.value\n",
    "]"
   ]
  },
  {
   "cell_type": "code",
   "execution_count": 108,
   "metadata": {},
   "outputs": [],
   "source": [
    "if '':\n",
    "    print('h')"
   ]
  },
  {
   "cell_type": "code",
   "execution_count": 87,
   "metadata": {},
   "outputs": [
    {
     "data": {
      "text/plain": [
       "['vice (0.47)',\n",
       " 'senator (0.45)',\n",
       " 'citizens: (0.43)',\n",
       " 'ceremony (0.42)',\n",
       " 'congress, (0.42)',\n",
       " 'transfer (0.41)',\n",
       " 'bush, (0.41)',\n",
       " 'predecessor, (0.4)',\n",
       " 'presence (0.4)',\n",
       " 'appoint (0.4)']"
      ]
     },
     "execution_count": 87,
     "metadata": {},
     "output_type": "execute_result"
    }
   ],
   "source": [
    "[label.value for label in wv_widget.checkboxes_text]"
   ]
  }
 ],
 "metadata": {
  "interpreter": {
   "hash": "8e2a475464f440071836fb2484c1f18022c40fe4978b9f598096cd826617382f"
  },
  "kernelspec": {
   "display_name": "Python 3.9.10 ('venv': venv)",
   "language": "python",
   "name": "python3"
  },
  "language_info": {
   "codemirror_mode": {
    "name": "ipython",
    "version": 3
   },
   "file_extension": ".py",
   "mimetype": "text/x-python",
   "name": "python",
   "nbconvert_exporter": "python",
   "pygments_lexer": "ipython3",
   "version": "3.8.13"
  },
  "orig_nbformat": 4
 },
 "nbformat": 4,
 "nbformat_minor": 2
}
