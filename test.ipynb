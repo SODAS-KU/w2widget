{
 "cells": [
  {
   "cell_type": "markdown",
   "metadata": {},
   "source": [
    "# w2widget\n",
    "*Words to Widget*"
   ]
  },
  {
   "cell_type": "markdown",
   "metadata": {},
   "source": [
    "Import widget"
   ]
  },
  {
   "cell_type": "code",
   "execution_count": 1,
   "metadata": {},
   "outputs": [],
   "source": [
    "%load_ext autoreload\n",
    "%autoreload 1"
   ]
  },
  {
   "cell_type": "code",
   "execution_count": 3,
   "metadata": {},
   "outputs": [],
   "source": [
    "from w2widget.widget import Widget\n",
    "%aimport w2widget.widget"
   ]
  },
  {
   "cell_type": "markdown",
   "metadata": {},
   "source": [
    "## Load data"
   ]
  },
  {
   "cell_type": "code",
   "execution_count": 4,
   "metadata": {},
   "outputs": [],
   "source": [
    "from nltk.corpus import inaugural, twitter_samples, reuters\n",
    "\n",
    "# import nltk\n",
    "# nltk.download('twitter_samples')\n"
   ]
  },
  {
   "cell_type": "markdown",
   "metadata": {},
   "source": [
    "### Twitter samples"
   ]
  },
  {
   "cell_type": "code",
   "execution_count": 5,
   "metadata": {},
   "outputs": [],
   "source": [
    "import json\n"
   ]
  },
  {
   "cell_type": "code",
   "execution_count": 70,
   "metadata": {},
   "outputs": [
    {
     "name": "stdout",
     "output_type": "stream",
     "text": [
      "Twitter Samples\n",
      "\n",
      "These samples of Tweets (or 'status updates') were collected from the\n",
      "Twitter Streaming and REST APIs (see\n",
      "https://dev.twitter.com/overview/documentation,\n",
      "https://dev.twitter.com/streaming/overview). Each file consists of\n",
      "line-separated JSON-formatted tweets, i.e. one Tweet per line. For a\n",
      "detailed description of the JSON fields in a Tweet, see\n",
      "https://dev.twitter.com/overview/api/tweets.\n",
      "\n",
      "Any use of this data is subject to the Twitter Developer Agreement and\n",
      "Developer Policy:\n",
      "https://dev.twitter.com/overview/terms/agreement-and-policy.\n",
      "\n",
      "####################################################\n",
      "* tweets.20150430-223406.json:\n",
      "\n",
      "Collected from the public stream of the Streaming API using the\n",
      "'statuses / filter' endpoint. The value of 'track' was set to the\n",
      "following keywords: \n",
      "\n",
      "\"david cameron, miliband, milliband, sturgeon, clegg, farage, tory,\n",
      "tories, ukip, snp, libdem\"\n",
      "\n",
      "####################################################\n",
      "* positive_tweets.json\n",
      "* negative_tweets.json\n",
      "\n",
      "These were collected in July 2015 by searching against the following strings:\n",
      "\n",
      "positive\n",
      "-------\n",
      "    ':-)', ':)', ';)', ':o)', ':]', ':3', ':c)', ':>', '=]', '8)', '=)', ':}',\n",
      "    ':^)', ':-D', ':D', '8-D', '8D', 'x-D', 'xD', 'X-D', 'XD', '=-D', '=D',\n",
      "    '=-3', '=3', ':-))', \":'-)\", \":')\", ':*', ':^*', '>:P', ':-P', ':P', 'X-P',\n",
      "    'x-p', 'xp', 'XP', ':-p', ':p', '=p', ':-b', ':b', '>:)', '>;)', '>:-)',\n",
      "    '<3'\n",
      "    }\n",
      "\n",
      "negative\n",
      "------\n",
      "    ':L', ':-/', '>:/', ':S', '>:[', ':@', ':-(', ':[', ':-||', '=L', ':<',\n",
      "    ':-[', ':-<', '=\\\\', '=/', '>:(', ':(', '>.<', \":'-(\", \":'(\", ':\\\\', ':-c',\n",
      "    ':c', ':{', '>:\\\\', ';('\n",
      "   \n",
      "\n",
      "\n",
      "\n",
      "\n"
     ]
    }
   ],
   "source": [
    "twitter_samples._readme = 'README.txt'\n",
    "print(twitter_samples.readme())"
   ]
  },
  {
   "cell_type": "code",
   "execution_count": 4,
   "metadata": {},
   "outputs": [
    {
     "data": {
      "text/plain": [
       "[FileSystemPathPointer('C:\\\\Users\\\\tobia\\\\AppData\\\\Roaming\\\\nltk_data\\\\corpora\\\\twitter_samples\\\\negative_tweets.json'),\n",
       " FileSystemPathPointer('C:\\\\Users\\\\tobia\\\\AppData\\\\Roaming\\\\nltk_data\\\\corpora\\\\twitter_samples\\\\positive_tweets.json'),\n",
       " FileSystemPathPointer('C:\\\\Users\\\\tobia\\\\AppData\\\\Roaming\\\\nltk_data\\\\corpora\\\\twitter_samples\\\\tweets.20150430-223406.json')]"
      ]
     },
     "execution_count": 4,
     "metadata": {},
     "output_type": "execute_result"
    }
   ],
   "source": [
    "twitter_samples.abspaths()\n"
   ]
  },
  {
   "cell_type": "code",
   "execution_count": 33,
   "metadata": {},
   "outputs": [],
   "source": [
    "tweets_path = twitter_samples.abspaths()[-1]\n",
    "# with open(tweets_path, 'r') as f:\n",
    "tweets = []\n",
    "with twitter_samples.open(tweets_path) as f:\n",
    "    for line in f:\n",
    "        tweets.append(json.loads(line.strip()))\n"
   ]
  },
  {
   "cell_type": "code",
   "execution_count": 34,
   "metadata": {},
   "outputs": [],
   "source": [
    "docs = [tweet[\"text\"] for tweet in tweets if \"retweeted_status\" not in tweet]\n"
   ]
  },
  {
   "cell_type": "markdown",
   "metadata": {},
   "source": [
    "### Reuters"
   ]
  },
  {
   "cell_type": "code",
   "execution_count": 6,
   "metadata": {},
   "outputs": [],
   "source": [
    "docs = []\n",
    "\n",
    "for path in reuters.fileids():\n",
    "    with reuters.open(path) as f:\n",
    "        docs.append(f.read())\n"
   ]
  },
  {
   "cell_type": "markdown",
   "metadata": {},
   "source": [
    "### Inaugural speeches"
   ]
  },
  {
   "cell_type": "code",
   "execution_count": 5,
   "metadata": {},
   "outputs": [],
   "source": [
    "docs = []\n",
    "\n",
    "for doc in inaugural.abspaths():\n",
    "    # with open(doc, 'r') as f:\n",
    "    f = inaugural.open(doc)\n",
    "    docs.append(f.read())\n",
    "    f.close()\n"
   ]
  },
  {
   "cell_type": "markdown",
   "metadata": {},
   "source": [
    "## Text preprocessing"
   ]
  },
  {
   "cell_type": "code",
   "execution_count": 36,
   "metadata": {},
   "outputs": [],
   "source": [
    "from nltk.tokenize import WordPunctTokenizer\n",
    "from typing import List\n",
    "from functools import partial\n"
   ]
  },
  {
   "cell_type": "code",
   "execution_count": 8,
   "metadata": {},
   "outputs": [],
   "source": [
    "tokenizer = WordPunctTokenizer()\n",
    "\n",
    "def tokenize_with_ws(text: str, tokenizer) -> List[str]:\n",
    "    return [x for y in [tokenizer(x) + [\" \"] for x in text.split()] for x in y]\n",
    "\n",
    "\n",
    "tokenizer.tokenize_with_ws = partial(tokenize_with_ws, tokenizer=tokenizer.tokenize)\n"
   ]
  },
  {
   "cell_type": "code",
   "execution_count": 38,
   "metadata": {},
   "outputs": [],
   "source": [
    "document_tokens = [\n",
    "    [token.lower() for token in tokenizer.tokenize_with_ws(doc) if token.isalnum()]\n",
    "    for doc in docs\n",
    "]\n",
    "\n",
    "tokens_with_ws = [tokenizer.tokenize_with_ws(doc) for doc in docs]"
   ]
  },
  {
   "cell_type": "markdown",
   "metadata": {},
   "source": [
    "## Train word2vec model"
   ]
  },
  {
   "cell_type": "code",
   "execution_count": 10,
   "metadata": {},
   "outputs": [],
   "source": [
    "from gensim.models import Word2Vec\n"
   ]
  },
  {
   "cell_type": "code",
   "execution_count": 11,
   "metadata": {},
   "outputs": [],
   "source": [
    "w2v = Word2Vec()\n"
   ]
  },
  {
   "cell_type": "code",
   "execution_count": 12,
   "metadata": {},
   "outputs": [],
   "source": [
    "wv_model = Word2Vec(\n",
    "    document_tokens,\n",
    "    vector_size=200,\n",
    "    window=10,\n",
    "    workers=4,\n",
    "    seed=42,\n",
    "    epochs=10,\n",
    "    min_count=2,\n",
    ").wv\n"
   ]
  },
  {
   "cell_type": "code",
   "execution_count": 20,
   "metadata": {},
   "outputs": [
    {
     "data": {
      "text/plain": [
       "[('petroleum', 0.6585260629653931),\n",
       " ('natural', 0.6534021496772766),\n",
       " ('pipeline', 0.5819165706634521),\n",
       " ('energy', 0.5693051218986511),\n",
       " ('crude', 0.5351841449737549),\n",
       " ('fuel', 0.5322396159172058),\n",
       " ('ecuador', 0.510562539100647),\n",
       " ('liquids', 0.48409831523895264),\n",
       " ('deliverability', 0.48102378845214844),\n",
       " ('pipelines', 0.47501084208488464)]"
      ]
     },
     "execution_count": 20,
     "metadata": {},
     "output_type": "execute_result"
    }
   ],
   "source": [
    "wv_model.most_similar('oil')"
   ]
  },
  {
   "cell_type": "markdown",
   "metadata": {},
   "source": [
    "## Reduce dimensions"
   ]
  },
  {
   "cell_type": "code",
   "execution_count": 13,
   "metadata": {},
   "outputs": [],
   "source": [
    "from sklearn.decomposition import PCA\n",
    "\n",
    "# from sklearn.manifold import TSNE\n",
    "from openTSNE import TSNE\n"
   ]
  },
  {
   "cell_type": "code",
   "execution_count": 14,
   "metadata": {},
   "outputs": [],
   "source": [
    "normed_vectors = wv_model.get_normed_vectors()\n"
   ]
  },
  {
   "cell_type": "code",
   "execution_count": 15,
   "metadata": {},
   "outputs": [
    {
     "name": "stdout",
     "output_type": "stream",
     "text": [
      "--------------------------------------------------------------------------------\n",
      "TSNE(random_state=420, verbose=1)\n",
      "--------------------------------------------------------------------------------\n",
      "===> Finding 90 nearest neighbors using Annoy approximate search using euclidean distance...\n",
      "   --> Time elapsed: 15.20 seconds\n",
      "===> Calculating affinity matrix...\n",
      "   --> Time elapsed: 1.20 seconds\n",
      "===> Calculating PCA-based initialization...\n",
      "   --> Time elapsed: 0.04 seconds\n",
      "===> Running optimization with exaggeration=12.00, lr=1664.00 for 250 iterations...\n",
      "Iteration   50, KL divergence 6.0804, 50 iterations in 4.6534 sec\n",
      "Iteration  100, KL divergence 6.0569, 50 iterations in 5.5207 sec\n",
      "Iteration  150, KL divergence 6.0559, 50 iterations in 4.5588 sec\n",
      "Iteration  200, KL divergence 6.0559, 50 iterations in 4.1589 sec\n",
      "Iteration  250, KL divergence 6.0559, 50 iterations in 4.1326 sec\n",
      "   --> Time elapsed: 23.02 seconds\n",
      "===> Running optimization with exaggeration=1.00, lr=1664.00 for 500 iterations...\n",
      "Iteration   50, KL divergence 4.5275, 50 iterations in 4.0085 sec\n",
      "Iteration  100, KL divergence 4.1596, 50 iterations in 4.0131 sec\n",
      "Iteration  150, KL divergence 3.9923, 50 iterations in 4.2007 sec\n",
      "Iteration  200, KL divergence 3.8865, 50 iterations in 5.1602 sec\n",
      "Iteration  250, KL divergence 3.8133, 50 iterations in 7.3346 sec\n",
      "Iteration  300, KL divergence 3.7596, 50 iterations in 8.3788 sec\n",
      "Iteration  350, KL divergence 3.7189, 50 iterations in 9.4932 sec\n",
      "Iteration  400, KL divergence 3.6876, 50 iterations in 12.5808 sec\n",
      "Iteration  450, KL divergence 3.6624, 50 iterations in 12.4671 sec\n",
      "Iteration  500, KL divergence 3.6446, 50 iterations in 17.9644 sec\n",
      "   --> Time elapsed: 85.60 seconds\n",
      "===> Finding 15 nearest neighbors in existing embedding using Annoy approximate search...\n",
      "   --> Time elapsed: 3.84 seconds\n",
      "===> Calculating affinity matrix...\n",
      "   --> Time elapsed: 0.31 seconds\n",
      "===> Running optimization with exaggeration=4.00, lr=0.10 for 0 iterations...\n",
      "   --> Time elapsed: 0.00 seconds\n",
      "===> Running optimization with exaggeration=1.50, lr=0.10 for 250 iterations...\n",
      "Iteration   50, KL divergence 307182.6272, 50 iterations in 1.1740 sec\n",
      "Iteration  100, KL divergence 303951.1625, 50 iterations in 0.9863 sec\n",
      "Iteration  150, KL divergence 301715.8681, 50 iterations in 1.2645 sec\n",
      "Iteration  200, KL divergence 300112.4586, 50 iterations in 1.1585 sec\n",
      "Iteration  250, KL divergence 298888.3993, 50 iterations in 1.0501 sec\n",
      "   --> Time elapsed: 5.63 seconds\n"
     ]
    }
   ],
   "source": [
    "pca = PCA(n_components=50)\n",
    "pca_embedding = pca.fit_transform(normed_vectors)\n",
    "\n",
    "TSNE_embedding = TSNE(\n",
    "    n_components=2, learning_rate=\"auto\", random_state=420, verbose=1\n",
    ").fit(pca_embedding)\n",
    "\n",
    "two_dim_word_vectors = TSNE_embedding.transform(pca_embedding)\n"
   ]
  },
  {
   "cell_type": "markdown",
   "metadata": {},
   "source": [
    "## doc2vec\n",
    "\n",
    "https://towardsdatascience.com/word-embeddings-and-document-vectors-when-in-doubt-simplify-8c9aaeec244e\n",
    "\n",
    "https://towardsdatascience.com/document-embedding-techniques-fed3e7a6a25d"
   ]
  },
  {
   "cell_type": "code",
   "execution_count": 21,
   "metadata": {},
   "outputs": [],
   "source": [
    "%aimport w2v_widget.utils\n",
    "from w2widget.doc2vec import Doc2Vec, calculate_inverse_frequency"
   ]
  },
  {
   "cell_type": "code",
   "execution_count": 22,
   "metadata": {},
   "outputs": [],
   "source": [
    "word_weights = calculate_inverse_frequency(document_tokens)\n"
   ]
  },
  {
   "cell_type": "code",
   "execution_count": 33,
   "metadata": {},
   "outputs": [
    {
     "data": {
      "application/vnd.jupyter.widget-view+json": {
       "model_id": "a317367b18a041d4a51792b37b88d972",
       "version_major": 2,
       "version_minor": 0
      },
      "text/plain": [
       "  0%|          | 0/10788 [00:00<?, ?it/s]"
      ]
     },
     "metadata": {},
     "output_type": "display_data"
    }
   ],
   "source": [
    "dv_model = Doc2Vec(wv_model, word_weights)\n",
    "\n",
    "dv_model.add_doc2vec(document_tokens)\n",
    "\n",
    "dv_model.reduce_dimensions()\n",
    "\n",
    "dv_tsne_embedding = dv_model.TSNE_embedding_array\n"
   ]
  },
  {
   "cell_type": "markdown",
   "metadata": {},
   "source": [
    "## Display widget"
   ]
  },
  {
   "cell_type": "code",
   "execution_count": 39,
   "metadata": {},
   "outputs": [
    {
     "data": {
      "application/vnd.jupyter.widget-view+json": {
       "model_id": "85cfcd4b0e8c4695b2e9dc404346f0ac",
       "version_major": 2,
       "version_minor": 0
      },
      "text/plain": [
       "VBox(children=(HTML(value='<style>\\n.widget-button {\\n    margin-right: 160px;\\n}\\n\\n.widget-select-multiple {…"
      ]
     },
     "metadata": {},
     "output_type": "display_data"
    },
    {
     "data": {
      "application/javascript": "\n                // Javascript injection to help plotly graph fit it's container\n                selector = \"div.js-plotly-plot:nth-child(1) > div:nth-child(1) > div:nth-child(1) > div:nth-child(4) > div:nth-child(1) > div:nth-child(3) > a:nth-child(4)\";\n                \n                function waitForElementToDisplay(selector, callback, checkFrequencyInMs, timeoutInMs) {\n                    var startTimeInMs = Date.now();\n                    (function loopSearch() {\n                        if (document.querySelector(selector) != null) {\n                        callback();\n                        return;\n                        }\n                        else {\n                        setTimeout(function () {\n                            if (timeoutInMs && Date.now() - startTimeInMs > timeoutInMs)\n                            return;\n                            loopSearch();\n                        }, checkFrequencyInMs);\n                        }\n                    })();\n                }\n                \n                waitForElementToDisplay(selector,function(){document.querySelector(selector).click()},1000,9000);\n                console.warn('test')\n            ",
      "text/plain": [
       "<IPython.core.display.Javascript object>"
      ]
     },
     "metadata": {},
     "output_type": "display_data"
    }
   ],
   "source": [
    "wv_widget = Widget(\n",
    "    wv_model=wv_model,\n",
    "    two_dim_word_embedding=TSNE_embedding,\n",
    "    dv_model=dv_model,\n",
    "    two_dim_doc_embedding=dv_tsne_embedding,\n",
    "    tokens_with_ws=tokens_with_ws,\n",
    "    initial_search_words=[],\n",
    ")\n",
    "\n",
    "wv_widget.display_widget()\n"
   ]
  },
  {
   "cell_type": "code",
   "execution_count": 77,
   "metadata": {},
   "outputs": [
    {
     "data": {
      "text/plain": [
       "{'test': ['cameron', 'snap', 'followback']}"
      ]
     },
     "execution_count": 77,
     "metadata": {},
     "output_type": "execute_result"
    }
   ],
   "source": [
    "wv_widget.queries"
   ]
  },
  {
   "cell_type": "code",
   "execution_count": 78,
   "metadata": {},
   "outputs": [
    {
     "data": {
      "text/plain": [
       "{}"
      ]
     },
     "execution_count": 78,
     "metadata": {},
     "output_type": "execute_result"
    }
   ],
   "source": [
    "wv_widget.topics"
   ]
  },
  {
   "cell_type": "code",
   "execution_count": 63,
   "metadata": {},
   "outputs": [],
   "source": [
    "from ipywidgets.embed import embed_minimal_html, dependency_state\n"
   ]
  },
  {
   "cell_type": "code",
   "execution_count": 64,
   "metadata": {},
   "outputs": [],
   "source": [
    "embed_minimal_html(\n",
    "    \"export.html\",\n",
    "    views=wv_widget.view,\n",
    "    title=\"w2widget\",\n",
    "    state=dependency_state(wv_widget.view),\n",
    ")\n"
   ]
  }
 ],
 "metadata": {
  "interpreter": {
   "hash": "ec010e966837cae837deaaf4e5496ec78be523a218bce7b35f26aada2ba560b3"
  },
  "kernelspec": {
   "display_name": "Python 3.8.13 ('w2widget')",
   "language": "python",
   "name": "python3"
  },
  "language_info": {
   "codemirror_mode": {
    "name": "ipython",
    "version": 3
   },
   "file_extension": ".py",
   "mimetype": "text/x-python",
   "name": "python",
   "nbconvert_exporter": "python",
   "pygments_lexer": "ipython3",
   "version": "3.8.13"
  }
 },
 "nbformat": 4,
 "nbformat_minor": 2
}
