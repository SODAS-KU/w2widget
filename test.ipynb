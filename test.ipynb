{
 "cells": [
  {
   "cell_type": "markdown",
   "metadata": {},
   "source": [
    "# w2widget\n",
    "*Words to Widget*"
   ]
  },
  {
   "cell_type": "markdown",
   "metadata": {},
   "source": [
    "Import widget"
   ]
  },
  {
   "cell_type": "code",
   "execution_count": 69,
   "metadata": {},
   "outputs": [
    {
     "name": "stdout",
     "output_type": "stream",
     "text": [
      "The autoreload extension is already loaded. To reload it, use:\n",
      "  %reload_ext autoreload\n"
     ]
    }
   ],
   "source": [
    "%load_ext autoreload\n",
    "%autoreload 1"
   ]
  },
  {
   "cell_type": "code",
   "execution_count": 2,
   "metadata": {},
   "outputs": [],
   "source": [
    "from w2v_widget.widget import WVWidget\n",
    "%aimport w2v_widget.widget"
   ]
  },
  {
   "cell_type": "markdown",
   "metadata": {},
   "source": [
    "## Load data"
   ]
  },
  {
   "cell_type": "code",
   "execution_count": 3,
   "metadata": {},
   "outputs": [],
   "source": [
    "from nltk.corpus import inaugural, twitter_samples\n",
    "\n",
    "# import nltk\n",
    "# nltk.download('twitter_samples')\n"
   ]
  },
  {
   "cell_type": "markdown",
   "metadata": {},
   "source": [
    "## Twitter samples"
   ]
  },
  {
   "cell_type": "code",
   "execution_count": null,
   "metadata": {},
   "outputs": [],
   "source": [
    "import json\n"
   ]
  },
  {
   "cell_type": "code",
   "execution_count": 70,
   "metadata": {},
   "outputs": [
    {
     "name": "stdout",
     "output_type": "stream",
     "text": [
      "Twitter Samples\n",
      "\n",
      "These samples of Tweets (or 'status updates') were collected from the\n",
      "Twitter Streaming and REST APIs (see\n",
      "https://dev.twitter.com/overview/documentation,\n",
      "https://dev.twitter.com/streaming/overview). Each file consists of\n",
      "line-separated JSON-formatted tweets, i.e. one Tweet per line. For a\n",
      "detailed description of the JSON fields in a Tweet, see\n",
      "https://dev.twitter.com/overview/api/tweets.\n",
      "\n",
      "Any use of this data is subject to the Twitter Developer Agreement and\n",
      "Developer Policy:\n",
      "https://dev.twitter.com/overview/terms/agreement-and-policy.\n",
      "\n",
      "####################################################\n",
      "* tweets.20150430-223406.json:\n",
      "\n",
      "Collected from the public stream of the Streaming API using the\n",
      "'statuses / filter' endpoint. The value of 'track' was set to the\n",
      "following keywords: \n",
      "\n",
      "\"david cameron, miliband, milliband, sturgeon, clegg, farage, tory,\n",
      "tories, ukip, snp, libdem\"\n",
      "\n",
      "####################################################\n",
      "* positive_tweets.json\n",
      "* negative_tweets.json\n",
      "\n",
      "These were collected in July 2015 by searching against the following strings:\n",
      "\n",
      "positive\n",
      "-------\n",
      "    ':-)', ':)', ';)', ':o)', ':]', ':3', ':c)', ':>', '=]', '8)', '=)', ':}',\n",
      "    ':^)', ':-D', ':D', '8-D', '8D', 'x-D', 'xD', 'X-D', 'XD', '=-D', '=D',\n",
      "    '=-3', '=3', ':-))', \":'-)\", \":')\", ':*', ':^*', '>:P', ':-P', ':P', 'X-P',\n",
      "    'x-p', 'xp', 'XP', ':-p', ':p', '=p', ':-b', ':b', '>:)', '>;)', '>:-)',\n",
      "    '<3'\n",
      "    }\n",
      "\n",
      "negative\n",
      "------\n",
      "    ':L', ':-/', '>:/', ':S', '>:[', ':@', ':-(', ':[', ':-||', '=L', ':<',\n",
      "    ':-[', ':-<', '=\\\\', '=/', '>:(', ':(', '>.<', \":'-(\", \":'(\", ':\\\\', ':-c',\n",
      "    ':c', ':{', '>:\\\\', ';('\n",
      "   \n",
      "\n",
      "\n",
      "\n",
      "\n"
     ]
    }
   ],
   "source": [
    "twitter_samples._readme = 'README.txt'\n",
    "print(twitter_samples.readme())"
   ]
  },
  {
   "cell_type": "code",
   "execution_count": 4,
   "metadata": {},
   "outputs": [
    {
     "data": {
      "text/plain": [
       "[FileSystemPathPointer('C:\\\\Users\\\\tobia\\\\AppData\\\\Roaming\\\\nltk_data\\\\corpora\\\\twitter_samples\\\\negative_tweets.json'),\n",
       " FileSystemPathPointer('C:\\\\Users\\\\tobia\\\\AppData\\\\Roaming\\\\nltk_data\\\\corpora\\\\twitter_samples\\\\positive_tweets.json'),\n",
       " FileSystemPathPointer('C:\\\\Users\\\\tobia\\\\AppData\\\\Roaming\\\\nltk_data\\\\corpora\\\\twitter_samples\\\\tweets.20150430-223406.json')]"
      ]
     },
     "execution_count": 4,
     "metadata": {},
     "output_type": "execute_result"
    }
   ],
   "source": [
    "twitter_samples.abspaths()\n"
   ]
  },
  {
   "cell_type": "code",
   "execution_count": 33,
   "metadata": {},
   "outputs": [],
   "source": [
    "tweets_path = twitter_samples.abspaths()[-1]\n",
    "# with open(tweets_path, 'r') as f:\n",
    "tweets = []\n",
    "with twitter_samples.open(tweets_path) as f:\n",
    "    for line in f:\n",
    "        tweets.append(json.loads(line.strip()))\n"
   ]
  },
  {
   "cell_type": "code",
   "execution_count": 34,
   "metadata": {},
   "outputs": [],
   "source": [
    "docs = [tweet[\"text\"] for tweet in tweets if \"retweeted_status\" not in tweet]\n"
   ]
  },
  {
   "cell_type": "markdown",
   "metadata": {},
   "source": [
    "### Reuters"
   ]
  },
  {
   "cell_type": "code",
   "execution_count": 4,
   "metadata": {},
   "outputs": [],
   "source": [
    "# docs = []\n",
    "\n",
    "# for path in reuters.fileids():\n",
    "#     with reuters.open(path) as f:\n",
    "#         docs.append(f.read())\n"
   ]
  },
  {
   "cell_type": "markdown",
   "metadata": {},
   "source": [
    "### Inaugural speeches"
   ]
  },
  {
   "cell_type": "code",
   "execution_count": 5,
   "metadata": {},
   "outputs": [],
   "source": [
    "docs = []\n",
    "\n",
    "for doc in inaugural.abspaths():\n",
    "    # with open(doc, 'r') as f:\n",
    "    f = inaugural.open(doc)\n",
    "    docs.append(f.read())\n",
    "    f.close()\n"
   ]
  },
  {
   "cell_type": "markdown",
   "metadata": {},
   "source": [
    "## Text preprocessing"
   ]
  },
  {
   "cell_type": "code",
   "execution_count": 35,
   "metadata": {},
   "outputs": [],
   "source": [
    "from nltk.tokenize import WordPunctTokenizer\n",
    "from typing import List\n"
   ]
  },
  {
   "cell_type": "code",
   "execution_count": 36,
   "metadata": {},
   "outputs": [],
   "source": [
    "from functools import partial\n"
   ]
  },
  {
   "cell_type": "code",
   "execution_count": 37,
   "metadata": {},
   "outputs": [],
   "source": [
    "tokenizer = WordPunctTokenizer()\n"
   ]
  },
  {
   "cell_type": "code",
   "execution_count": 38,
   "metadata": {},
   "outputs": [],
   "source": [
    "def tokenize_with_ws(text: str, tokenizer) -> List[str]:\n",
    "    return [x for y in [tokenizer(x) + [\" \"] for x in text.split()] for x in y]\n",
    "\n",
    "\n",
    "tokenizer.tokenize_with_ws = partial(tokenize_with_ws, tokenizer=tokenizer.tokenize)\n"
   ]
  },
  {
   "cell_type": "code",
   "execution_count": 39,
   "metadata": {},
   "outputs": [],
   "source": [
    "document_tokens = [\n",
    "    [token.lower() for token in tokenizer.tokenize_with_ws(doc) if token.isalnum()]\n",
    "    for doc in docs\n",
    "]\n"
   ]
  },
  {
   "cell_type": "markdown",
   "metadata": {},
   "source": [
    "## Train word2vec model"
   ]
  },
  {
   "cell_type": "code",
   "execution_count": 40,
   "metadata": {},
   "outputs": [],
   "source": [
    "from gensim.models import Word2Vec\n"
   ]
  },
  {
   "cell_type": "code",
   "execution_count": 41,
   "metadata": {},
   "outputs": [],
   "source": [
    "w2v = Word2Vec()\n"
   ]
  },
  {
   "cell_type": "code",
   "execution_count": 42,
   "metadata": {},
   "outputs": [],
   "source": [
    "wv_model = Word2Vec(\n",
    "    document_tokens,\n",
    "    vector_size=200,\n",
    "    window=10,\n",
    "    workers=4,\n",
    "    seed=42,\n",
    "    epochs=100,\n",
    "    min_count=2,\n",
    ").wv\n"
   ]
  },
  {
   "cell_type": "code",
   "execution_count": 76,
   "metadata": {},
   "outputs": [
    {
     "data": {
      "text/plain": [
       "[('snap', 0.3149271309375763),\n",
       " ('followback', 0.29635483026504517),\n",
       " ('slip', 0.2953941822052002),\n",
       " ('banana', 0.28195929527282715),\n",
       " ('slaughtered', 0.2637789845466614),\n",
       " ('trip', 0.256316214799881),\n",
       " ('bbcquestiontime', 0.24670615792274475),\n",
       " ('lip', 0.24356338381767273),\n",
       " ('close', 0.24038226902484894),\n",
       " ('crosby', 0.2403440773487091)]"
      ]
     },
     "execution_count": 76,
     "metadata": {},
     "output_type": "execute_result"
    }
   ],
   "source": [
    "wv_model.most_similar('cameron')"
   ]
  },
  {
   "cell_type": "markdown",
   "metadata": {},
   "source": [
    "## Reduce dimensions"
   ]
  },
  {
   "cell_type": "code",
   "execution_count": 43,
   "metadata": {},
   "outputs": [],
   "source": [
    "from sklearn.decomposition import PCA\n",
    "\n",
    "# from sklearn.manifold import TSNE\n",
    "from openTSNE import TSNE\n"
   ]
  },
  {
   "cell_type": "code",
   "execution_count": 44,
   "metadata": {},
   "outputs": [],
   "source": [
    "normed_vectors = wv_model.get_normed_vectors()\n"
   ]
  },
  {
   "cell_type": "code",
   "execution_count": 45,
   "metadata": {},
   "outputs": [
    {
     "name": "stdout",
     "output_type": "stream",
     "text": [
      "--------------------------------------------------------------------------------\n",
      "TSNE(random_state=420, verbose=1)\n",
      "--------------------------------------------------------------------------------\n",
      "===> Finding 90 nearest neighbors using Annoy approximate search using euclidean distance...\n",
      "   --> Time elapsed: 3.42 seconds\n",
      "===> Calculating affinity matrix...\n",
      "   --> Time elapsed: 0.37 seconds\n",
      "===> Calculating PCA-based initialization...\n",
      "   --> Time elapsed: 0.01 seconds\n",
      "===> Running optimization with exaggeration=12.00, lr=414.33 for 250 iterations...\n",
      "Iteration   50, KL divergence 4.8902, 50 iterations in 4.0526 sec\n",
      "Iteration  100, KL divergence 4.9038, 50 iterations in 4.0115 sec\n",
      "Iteration  150, KL divergence 4.9060, 50 iterations in 4.9995 sec\n",
      "Iteration  200, KL divergence 4.8923, 50 iterations in 5.1460 sec\n",
      "Iteration  250, KL divergence 4.9091, 50 iterations in 4.2149 sec\n",
      "   --> Time elapsed: 22.43 seconds\n",
      "===> Running optimization with exaggeration=1.00, lr=414.33 for 500 iterations...\n",
      "Iteration   50, KL divergence 3.9229, 50 iterations in 3.4796 sec\n",
      "Iteration  100, KL divergence 3.6200, 50 iterations in 2.3226 sec\n",
      "Iteration  150, KL divergence 3.4706, 50 iterations in 2.3437 sec\n",
      "Iteration  200, KL divergence 3.3746, 50 iterations in 2.4867 sec\n",
      "Iteration  250, KL divergence 3.3067, 50 iterations in 2.3385 sec\n",
      "Iteration  300, KL divergence 3.2567, 50 iterations in 2.3299 sec\n",
      "Iteration  350, KL divergence 3.2190, 50 iterations in 3.4775 sec\n",
      "Iteration  400, KL divergence 3.1903, 50 iterations in 4.6499 sec\n",
      "Iteration  450, KL divergence 3.1681, 50 iterations in 3.7741 sec\n",
      "Iteration  500, KL divergence 3.1508, 50 iterations in 2.9303 sec\n",
      "   --> Time elapsed: 30.13 seconds\n",
      "===> Finding 15 nearest neighbors in existing embedding using Annoy approximate search...\n",
      "   --> Time elapsed: 1.18 seconds\n",
      "===> Calculating affinity matrix...\n",
      "   --> Time elapsed: 0.06 seconds\n",
      "===> Running optimization with exaggeration=4.00, lr=0.10 for 0 iterations...\n",
      "   --> Time elapsed: 0.00 seconds\n",
      "===> Running optimization with exaggeration=1.50, lr=0.10 for 250 iterations...\n",
      "Iteration   50, KL divergence 62435.6829, 50 iterations in 2.6134 sec\n",
      "Iteration  100, KL divergence 59942.9461, 50 iterations in 2.7036 sec\n",
      "Iteration  150, KL divergence 59333.3912, 50 iterations in 4.0987 sec\n",
      "Iteration  200, KL divergence 59130.5182, 50 iterations in 2.7080 sec\n",
      "Iteration  250, KL divergence 58993.3774, 50 iterations in 4.9748 sec\n",
      "   --> Time elapsed: 17.10 seconds\n"
     ]
    }
   ],
   "source": [
    "pca = PCA(n_components=50)\n",
    "pca_embedding = pca.fit_transform(normed_vectors)\n",
    "\n",
    "TSNE_embedding = TSNE(\n",
    "    n_components=2, learning_rate=\"auto\", random_state=420, verbose=1\n",
    ").fit(pca_embedding)\n",
    "\n",
    "two_dim_word_vectors = TSNE_embedding.transform(pca_embedding)\n"
   ]
  },
  {
   "cell_type": "markdown",
   "metadata": {},
   "source": [
    "## doc2vec\n",
    "\n",
    "https://towardsdatascience.com/word-embeddings-and-document-vectors-when-in-doubt-simplify-8c9aaeec244e\n",
    "\n",
    "https://towardsdatascience.com/document-embedding-techniques-fed3e7a6a25d"
   ]
  },
  {
   "cell_type": "code",
   "execution_count": 48,
   "metadata": {},
   "outputs": [
    {
     "name": "stderr",
     "output_type": "stream",
     "text": [
      "c:\\Users\\tobia\\Programming\\SODAS-KU\\w2v_widget\\src\\w2v_widget\\utils.py:2: TqdmExperimentalWarning: Using `tqdm.autonotebook.tqdm` in notebook mode. Use `tqdm.tqdm` instead to force console mode (e.g. in jupyter console)\n",
      "  from tqdm.autonotebook import tqdm\n"
     ]
    }
   ],
   "source": [
    "from w2v_widget.utils import Doc2Vec, calculate_inverse_frequency\n",
    "%aimport w2v_widget.utils"
   ]
  },
  {
   "cell_type": "code",
   "execution_count": 49,
   "metadata": {},
   "outputs": [],
   "source": [
    "word_weights = calculate_inverse_frequency(document_tokens)\n"
   ]
  },
  {
   "cell_type": "code",
   "execution_count": 50,
   "metadata": {},
   "outputs": [],
   "source": [
    "dv_model = Doc2Vec(wv_model, word_weights)\n"
   ]
  },
  {
   "cell_type": "code",
   "execution_count": 51,
   "metadata": {},
   "outputs": [
    {
     "data": {
      "application/vnd.jupyter.widget-view+json": {
       "model_id": "9378df48fef2470f96e86e2fe15a12d6",
       "version_major": 2,
       "version_minor": 0
      },
      "text/plain": [
       "  0%|          | 0/6723 [00:00<?, ?it/s]"
      ]
     },
     "metadata": {},
     "output_type": "display_data"
    }
   ],
   "source": [
    "dv_model.add_doc2vec([[word.lower().strip() for word in doc.split()] for doc in docs])\n"
   ]
  },
  {
   "cell_type": "code",
   "execution_count": 52,
   "metadata": {},
   "outputs": [],
   "source": [
    "dv_model.reduce_dimensions()\n"
   ]
  },
  {
   "cell_type": "code",
   "execution_count": 53,
   "metadata": {},
   "outputs": [],
   "source": [
    "dv_tsne_embedding = dv_model.TSNE_embedding_array\n"
   ]
  },
  {
   "cell_type": "markdown",
   "metadata": {},
   "source": [
    "## Display widget"
   ]
  },
  {
   "cell_type": "code",
   "execution_count": 58,
   "metadata": {},
   "outputs": [],
   "source": [
    "wv_widget = WVWidget(\n",
    "    wv_model=wv_model,\n",
    "    two_dim_word_embedding=TSNE_embedding,\n",
    "    dv_model=dv_model,\n",
    "    two_dim_doc_embedding=dv_tsne_embedding,\n",
    "    tokens_with_ws=[tokenizer.tokenize_with_ws(doc) for doc in docs],\n",
    "    initial_search_words=[\"president\", \"climate\"],\n",
    ")\n"
   ]
  },
  {
   "cell_type": "code",
   "execution_count": 60,
   "metadata": {},
   "outputs": [
    {
     "data": {
      "application/vnd.jupyter.widget-view+json": {
       "model_id": "d617a8a169e84becba382ecac6624bdf",
       "version_major": 2,
       "version_minor": 0
      },
      "text/plain": [
       "VBox(children=(HTML(value='<style>\\n.widget-button {\\n    margin-right: 160px;\\n}\\n\\n.widget-select-multiple {…"
      ]
     },
     "metadata": {},
     "output_type": "display_data"
    },
    {
     "data": {
      "application/javascript": "\n                // Javascript injection to help plotly graph fit it's container\n                selector = \"div.js-plotly-plot:nth-child(1) > div:nth-child(1) > div:nth-child(1) > div:nth-child(4) > div:nth-child(1) > div:nth-child(3) > a:nth-child(4)\";\n                \n                function waitForElementToDisplay(selector, callback, checkFrequencyInMs, timeoutInMs) {\n                    var startTimeInMs = Date.now();\n                    (function loopSearch() {\n                        if (document.querySelector(selector) != null) {\n                        callback();\n                        return;\n                        }\n                        else {\n                        setTimeout(function () {\n                            if (timeoutInMs && Date.now() - startTimeInMs > timeoutInMs)\n                            return;\n                            loopSearch();\n                        }, checkFrequencyInMs);\n                        }\n                    })();\n                }\n                \n                waitForElementToDisplay(selector,function(){document.querySelector(selector).click()},1000,9000);\n                console.warn('test')\n            ",
      "text/plain": [
       "<IPython.core.display.Javascript object>"
      ]
     },
     "metadata": {},
     "output_type": "display_data"
    }
   ],
   "source": [
    "wv_widget.display_widget()\n"
   ]
  },
  {
   "cell_type": "markdown",
   "metadata": {},
   "source": [
    "Add a word:\n",
    "- to queries\n",
    "- to topics when save\n"
   ]
  },
  {
   "cell_type": "code",
   "execution_count": 77,
   "metadata": {},
   "outputs": [
    {
     "data": {
      "text/plain": [
       "{'test': ['cameron', 'snap', 'followback']}"
      ]
     },
     "execution_count": 77,
     "metadata": {},
     "output_type": "execute_result"
    }
   ],
   "source": [
    "wv_widget.queries"
   ]
  },
  {
   "cell_type": "code",
   "execution_count": 78,
   "metadata": {},
   "outputs": [
    {
     "data": {
      "text/plain": [
       "{}"
      ]
     },
     "execution_count": 78,
     "metadata": {},
     "output_type": "execute_result"
    }
   ],
   "source": [
    "wv_widget.topics"
   ]
  },
  {
   "cell_type": "code",
   "execution_count": 63,
   "metadata": {},
   "outputs": [],
   "source": [
    "from ipywidgets.embed import embed_minimal_html, dependency_state\n"
   ]
  },
  {
   "cell_type": "code",
   "execution_count": 64,
   "metadata": {},
   "outputs": [],
   "source": [
    "embed_minimal_html(\n",
    "    \"export.html\",\n",
    "    views=wv_widget.view,\n",
    "    title=\"w2widget\",\n",
    "    state=dependency_state(wv_widget.view),\n",
    ")\n"
   ]
  }
 ],
 "metadata": {
  "interpreter": {
   "hash": "ec010e966837cae837deaaf4e5496ec78be523a218bce7b35f26aada2ba560b3"
  },
  "kernelspec": {
   "display_name": "Python 3.8.13 ('w2widget')",
   "language": "python",
   "name": "python3"
  },
  "language_info": {
   "codemirror_mode": {
    "name": "ipython",
    "version": 3
   },
   "file_extension": ".py",
   "mimetype": "text/x-python",
   "name": "python",
   "nbconvert_exporter": "python",
   "pygments_lexer": "ipython3",
   "version": "3.8.13"
  }
 },
 "nbformat": 4,
 "nbformat_minor": 2
}
