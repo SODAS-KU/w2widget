{
 "cells": [
  {
   "cell_type": "code",
   "execution_count": 1,
   "metadata": {},
   "outputs": [],
   "source": [
    "%load_ext autoreload\n",
    "%autoreload 2"
   ]
  },
  {
   "cell_type": "code",
   "execution_count": 2,
   "metadata": {},
   "outputs": [],
   "source": [
    "import pickle\n",
    "from w2widget.widget import Widget"
   ]
  },
  {
   "cell_type": "code",
   "execution_count": 3,
   "metadata": {},
   "outputs": [
    {
     "name": "stderr",
     "output_type": "stream",
     "text": [
      "c:\\Users\\tobia\\Programming\\SODAS-KU\\w2v_widget\\w2widget\\doc2vec.py:9: TqdmExperimentalWarning: Using `tqdm.autonotebook.tqdm` in notebook mode. Use `tqdm.tqdm` instead to force console mode (e.g. in jupyter console)\n",
      "  from tqdm.autonotebook import tqdm\n"
     ]
    }
   ],
   "source": [
    "\n",
    "with open('data/wv_model.pkl', 'rb') as f:\n",
    "    wv_model = pickle.load(f)\n",
    "\n",
    "with open('data/wv_tsne_embedding.pkl', 'rb') as f:\n",
    "    wv_tsne_embedding = pickle.load(f)\n",
    "\n",
    "with open('data/dv_model.pkl', 'rb') as f:\n",
    "    dv_model = pickle.load(f)\n",
    "    \n",
    "with open('data/dv_tsne_embedding.pkl', 'rb') as f:\n",
    "    dv_tsne_embedding = pickle.load(f)\n",
    "    \n",
    "with open('data/tokens_with_ws.pkl', 'rb') as f:\n",
    "    tokens_with_ws = pickle.load(f)\n"
   ]
  },
  {
   "cell_type": "code",
   "execution_count": 75,
   "metadata": {},
   "outputs": [
    {
     "data": {
      "application/vnd.jupyter.widget-view+json": {
       "model_id": "7ec639b2ff8a41e2b5fc268f09459242",
       "version_major": 2,
       "version_minor": 0
      },
      "text/plain": [
       "VBox(children=(HTML(value='<style>\\n.widget-button {\\n    margin-right: 160px;\\n}\\n\\n.widget-select-multiple {…"
      ]
     },
     "metadata": {},
     "output_type": "display_data"
    },
    {
     "data": {
      "application/javascript": "\n                // Javascript injection to help plotly graph fit it's container\n                selector = \"div.js-plotly-plot:nth-child(1) > div:nth-child(1) > div:nth-child(1) > div:nth-child(4) > div:nth-child(1) > div:nth-child(3) > a:nth-child(4)\";\n                \n                function waitForElementToDisplay(selector, callback, checkFrequencyInMs, timeoutInMs) {\n                    var startTimeInMs = Date.now();\n                    (function loopSearch() {\n                        if (document.querySelector(selector) != null) {\n                        callback();\n                        return;\n                        }\n                        else {\n                        setTimeout(function () {\n                            if (timeoutInMs && Date.now() - startTimeInMs > timeoutInMs)\n                            return;\n                            loopSearch();\n                        }, checkFrequencyInMs);\n                        }\n                    })();\n                }\n                \n                waitForElementToDisplay(selector,function(){document.querySelector(selector).click()},1000,9000);\n                console.warn('test')\n            ",
      "text/plain": [
       "<IPython.core.display.Javascript object>"
      ]
     },
     "metadata": {},
     "output_type": "display_data"
    }
   ],
   "source": [
    "wv_widget = Widget(\n",
    "    wv_model=wv_model,\n",
    "    two_dim_word_embedding=wv_tsne_embedding,\n",
    "    dv_model=dv_model,\n",
    "    two_dim_doc_embedding=dv_tsne_embedding,\n",
    "    tokens_with_ws=tokens_with_ws,\n",
    "    initial_search_words=[\"economy\", \"finance\"],\n",
    ")\n",
    "\n",
    "wv_widget.display_widget()"
   ]
  },
  {
   "cell_type": "code",
   "execution_count": 73,
   "metadata": {},
   "outputs": [
    {
     "data": {
      "application/vnd.jupyter.widget-view+json": {
       "model_id": "cfd2295b426b4eab827105a2c997a893",
       "version_major": 2,
       "version_minor": 0
      },
      "text/plain": [
       "Tab(children=(SelectMultiple(options=('economy', 'finance'), rows=18, value=()), SelectMultiple(options=(), ro…"
      ]
     },
     "metadata": {},
     "output_type": "display_data"
    }
   ],
   "source": [
    "wv_widget.choices_tab"
   ]
  }
 ],
 "metadata": {
  "interpreter": {
   "hash": "0e500392cdb3fe01e129fb4c8f04951bab5e9968734e266c04dcef5247b59834"
  },
  "kernelspec": {
   "display_name": "Python 3.10.4 ('w2widget_test')",
   "language": "python",
   "name": "python3"
  },
  "language_info": {
   "codemirror_mode": {
    "name": "ipython",
    "version": 3
   },
   "file_extension": ".py",
   "mimetype": "text/x-python",
   "name": "python",
   "nbconvert_exporter": "python",
   "pygments_lexer": "ipython3",
   "version": "3.8.13"
  },
  "orig_nbformat": 4
 },
 "nbformat": 4,
 "nbformat_minor": 2
}
