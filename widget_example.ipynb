{
 "cells": [
  {
   "cell_type": "code",
   "execution_count": 6,
   "metadata": {},
   "outputs": [
    {
     "name": "stdout",
     "output_type": "stream",
     "text": [
      "The autoreload extension is already loaded. To reload it, use:\n",
      "  %reload_ext autoreload\n"
     ]
    }
   ],
   "source": [
    "%load_ext autoreload\n",
    "%autoreload 2"
   ]
  },
  {
   "cell_type": "code",
   "execution_count": 7,
   "metadata": {},
   "outputs": [],
   "source": [
    "import pickle\n",
    "from w2widget.widget import Widget"
   ]
  },
  {
   "cell_type": "code",
   "execution_count": 8,
   "metadata": {},
   "outputs": [],
   "source": [
    "\n",
    "with open('data/wv_model.pkl', 'rb') as f:\n",
    "    wv_model = pickle.load(f)\n",
    "\n",
    "with open('data/wv_tsne_embedding.pkl', 'rb') as f:\n",
    "    wv_tsne_embedding = pickle.load(f)\n",
    "\n",
    "with open('data/dv_model.pkl', 'rb') as f:\n",
    "    dv_model = pickle.load(f)\n",
    "    \n",
    "with open('data/dv_tsne_embedding.pkl', 'rb') as f:\n",
    "    dv_tsne_embedding = pickle.load(f)\n",
    "    \n",
    "with open('data/tokens_with_ws.pkl', 'rb') as f:\n",
    "    tokens_with_ws = pickle.load(f)\n"
   ]
  },
  {
   "cell_type": "code",
   "execution_count": 10,
   "metadata": {},
   "outputs": [
    {
     "data": {
      "application/vnd.jupyter.widget-view+json": {
       "model_id": "72d6cd5fca154416b83ce8f40a682828",
       "version_major": 2,
       "version_minor": 0
      },
      "text/plain": [
       "VBox(children=(HTML(value='<style>\\n.widget-button {\\n    margin-right: 160px;\\n}\\n\\n.widget-select-multiple {…"
      ]
     },
     "metadata": {},
     "output_type": "display_data"
    },
    {
     "data": {
      "application/javascript": "\n                // Javascript injection to help plotly graph fit it's container\n                selector = \"div.js-plotly-plot:nth-child(1) > div:nth-child(1) > div:nth-child(1) > div:nth-child(4) > div:nth-child(1) > div:nth-child(3) > a:nth-child(4)\";\n                \n                function waitForElementToDisplay(selector, callback, checkFrequencyInMs, timeoutInMs) {\n                    var startTimeInMs = Date.now();\n                    (function loopSearch() {\n                        if (document.querySelector(selector) != null) {\n                        callback();\n                        return;\n                        }\n                        else {\n                        setTimeout(function () {\n                            if (timeoutInMs && Date.now() - startTimeInMs > timeoutInMs)\n                            return;\n                            loopSearch();\n                        }, checkFrequencyInMs);\n                        }\n                    })();\n                }\n                \n                waitForElementToDisplay(selector,function(){document.querySelector(selector).click()},1000,9000);\n                console.warn('test')\n            ",
      "text/plain": [
       "<IPython.core.display.Javascript object>"
      ]
     },
     "metadata": {},
     "output_type": "display_data"
    }
   ],
   "source": [
    "wv_widget = Widget(\n",
    "    wv_model=wv_model,\n",
    "    two_dim_word_embedding=wv_tsne_embedding,\n",
    "    tokens_with_ws=tokens_with_ws,\n",
    "    dv_model=dv_model,\n",
    "    two_dim_doc_embedding=dv_tsne_embedding,\n",
    "    initial_search_words=[\"economy\", \"finance\"],\n",
    ")\n",
    "\n",
    "wv_widget.display_widget()\n"
   ]
  }
 ],
 "metadata": {
  "interpreter": {
   "hash": "6a7c57661c9eafc909b193946f01cac1677bd385c72c6bfbce5869b9c25b8877"
  },
  "kernelspec": {
   "display_name": "Python 3.9.12 ('venv': venv)",
   "language": "python",
   "name": "python3"
  },
  "language_info": {
   "codemirror_mode": {
    "name": "ipython",
    "version": 3
   },
   "file_extension": ".py",
   "mimetype": "text/x-python",
   "name": "python",
   "nbconvert_exporter": "python",
   "pygments_lexer": "ipython3",
   "version": "3.9.12"
  },
  "orig_nbformat": 4
 },
 "nbformat": 4,
 "nbformat_minor": 2
}
