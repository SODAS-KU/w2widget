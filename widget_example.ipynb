{
 "cells": [
  {
   "cell_type": "code",
   "execution_count": 1,
   "metadata": {},
   "outputs": [],
   "source": [
    "%load_ext autoreload\n",
    "%autoreload 2"
   ]
  },
  {
   "cell_type": "code",
   "execution_count": 2,
   "metadata": {},
   "outputs": [],
   "source": [
    "import pickle\n",
    "from w2widget.widget import Widget"
   ]
  },
  {
   "cell_type": "code",
   "execution_count": 14,
   "metadata": {},
   "outputs": [],
   "source": [
    "\n",
    "with open('data/wv_model.pkl', 'rb') as f:\n",
    "    wv_model = pickle.load(f)\n",
    "\n",
    "with open('data/TSNE_embedding.pkl', 'rb') as f:\n",
    "    TSNE_embedding = pickle.load(f)\n",
    "\n",
    "with open('data/dv_model.pkl', 'rb') as f:\n",
    "    dv_model = pickle.load(f)\n",
    "    \n",
    "with open('data/dv_tsne_embedding.pkl', 'rb') as f:\n",
    "    dv_tsne_embedding = pickle.load(f)\n",
    "    \n",
    "with open('data/tokens_with_ws.pkl', 'rb') as f:\n",
    "    tokens_with_ws = pickle.load(f)\n"
   ]
  },
  {
   "cell_type": "code",
   "execution_count": 15,
   "metadata": {},
   "outputs": [
    {
     "ename": "AttributeError",
     "evalue": "'Doc2Vec' object has no attribute 'TSNE_embedding'",
     "output_type": "error",
     "traceback": [
      "\u001b[1;31m---------------------------------------------------------------------------\u001b[0m",
      "\u001b[1;31mAttributeError\u001b[0m                            Traceback (most recent call last)",
      "\u001b[1;32mc:\\Users\\tobia\\Programming\\SODAS-KU\\w2v_widget\\example.ipynb Cell 4'\u001b[0m in \u001b[0;36m<cell line: 8>\u001b[1;34m()\u001b[0m\n\u001b[0;32m      <a href='vscode-notebook-cell:/c%3A/Users/tobia/Programming/SODAS-KU/w2v_widget/example.ipynb#ch0000002?line=0'>1</a>\u001b[0m wv_widget \u001b[39m=\u001b[39m Widget(wv_model\u001b[39m=\u001b[39mwv_model,\n\u001b[0;32m      <a href='vscode-notebook-cell:/c%3A/Users/tobia/Programming/SODAS-KU/w2v_widget/example.ipynb#ch0000002?line=1'>2</a>\u001b[0m                      two_dim_word_embedding\u001b[39m=\u001b[39mTSNE_embedding,\n\u001b[0;32m      <a href='vscode-notebook-cell:/c%3A/Users/tobia/Programming/SODAS-KU/w2v_widget/example.ipynb#ch0000002?line=2'>3</a>\u001b[0m                      dv_model\u001b[39m=\u001b[39mdv_model,\n\u001b[0;32m      <a href='vscode-notebook-cell:/c%3A/Users/tobia/Programming/SODAS-KU/w2v_widget/example.ipynb#ch0000002?line=3'>4</a>\u001b[0m                      two_dim_doc_embedding\u001b[39m=\u001b[39mdv_tsne_embedding, \n\u001b[0;32m      <a href='vscode-notebook-cell:/c%3A/Users/tobia/Programming/SODAS-KU/w2v_widget/example.ipynb#ch0000002?line=4'>5</a>\u001b[0m                      tokens_with_ws \u001b[39m=\u001b[39m tokens_with_ws,\n\u001b[0;32m      <a href='vscode-notebook-cell:/c%3A/Users/tobia/Programming/SODAS-KU/w2v_widget/example.ipynb#ch0000002?line=5'>6</a>\u001b[0m                      initial_search_words\u001b[39m=\u001b[39m[\u001b[39m'\u001b[39m\u001b[39mpresident\u001b[39m\u001b[39m'\u001b[39m, \u001b[39m'\u001b[39m\u001b[39mvice\u001b[39m\u001b[39m'\u001b[39m])\n\u001b[1;32m----> <a href='vscode-notebook-cell:/c%3A/Users/tobia/Programming/SODAS-KU/w2v_widget/example.ipynb#ch0000002?line=7'>8</a>\u001b[0m wv_widget\u001b[39m.\u001b[39;49mdisplay_widget()\n",
      "File \u001b[1;32mc:\\Users\\tobia\\Programming\\SODAS-KU\\w2v_widget\\w2widget\\widget.py:845\u001b[0m, in \u001b[0;36mWidget.display_widget\u001b[1;34m(self)\u001b[0m\n\u001b[0;32m    <a href='file:///c%3A/Users/tobia/Programming/SODAS-KU/w2v_widget/w2widget/widget.py?line=840'>841</a>\u001b[0m \u001b[39m\"\"\"\u001b[39;00m\n\u001b[0;32m    <a href='file:///c%3A/Users/tobia/Programming/SODAS-KU/w2v_widget/w2widget/widget.py?line=841'>842</a>\u001b[0m \u001b[39mInitialize the widget with the provided search terms\u001b[39;00m\n\u001b[0;32m    <a href='file:///c%3A/Users/tobia/Programming/SODAS-KU/w2v_widget/w2widget/widget.py?line=842'>843</a>\u001b[0m \u001b[39m\"\"\"\u001b[39;00m\n\u001b[0;32m    <a href='file:///c%3A/Users/tobia/Programming/SODAS-KU/w2v_widget/w2widget/widget.py?line=843'>844</a>\u001b[0m \u001b[39m# Create widget elements\u001b[39;00m\n\u001b[1;32m--> <a href='file:///c%3A/Users/tobia/Programming/SODAS-KU/w2v_widget/w2widget/widget.py?line=844'>845</a>\u001b[0m \u001b[39mself\u001b[39;49m\u001b[39m.\u001b[39;49mcreate_widgets()\n\u001b[0;32m    <a href='file:///c%3A/Users/tobia/Programming/SODAS-KU/w2v_widget/w2widget/widget.py?line=846'>847</a>\u001b[0m \u001b[39mself\u001b[39m\u001b[39m.\u001b[39mwv_figure_widget\u001b[39m.\u001b[39mlayout\u001b[39m.\u001b[39mautosize \u001b[39m=\u001b[39m \u001b[39mTrue\u001b[39;00m\n\u001b[0;32m    <a href='file:///c%3A/Users/tobia/Programming/SODAS-KU/w2v_widget/w2widget/widget.py?line=848'>849</a>\u001b[0m \u001b[39mself\u001b[39m\u001b[39m.\u001b[39mview \u001b[39m=\u001b[39m widgets\u001b[39m.\u001b[39mVBox(\n\u001b[0;32m    <a href='file:///c%3A/Users/tobia/Programming/SODAS-KU/w2v_widget/w2widget/widget.py?line=849'>850</a>\u001b[0m     [\n\u001b[0;32m    <a href='file:///c%3A/Users/tobia/Programming/SODAS-KU/w2v_widget/w2widget/widget.py?line=850'>851</a>\u001b[0m         \u001b[39mself\u001b[39m\u001b[39m.\u001b[39mcss,\n\u001b[1;32m   (...)\u001b[0m\n\u001b[0;32m   <a href='file:///c%3A/Users/tobia/Programming/SODAS-KU/w2v_widget/w2widget/widget.py?line=1007'>1008</a>\u001b[0m     ]\n\u001b[0;32m   <a href='file:///c%3A/Users/tobia/Programming/SODAS-KU/w2v_widget/w2widget/widget.py?line=1008'>1009</a>\u001b[0m )\n",
      "File \u001b[1;32mc:\\Users\\tobia\\Programming\\SODAS-KU\\w2v_widget\\w2widget\\widget.py:475\u001b[0m, in \u001b[0;36mWidget.create_widgets\u001b[1;34m(self)\u001b[0m\n\u001b[0;32m    <a href='file:///c%3A/Users/tobia/Programming/SODAS-KU/w2v_widget/w2widget/widget.py?line=469'>470</a>\u001b[0m \u001b[39mself\u001b[39m\u001b[39m.\u001b[39madd_word_embedding_traces()\n\u001b[0;32m    <a href='file:///c%3A/Users/tobia/Programming/SODAS-KU/w2v_widget/w2widget/widget.py?line=471'>472</a>\u001b[0m \u001b[39mself\u001b[39m\u001b[39m.\u001b[39mdv_figure_widget \u001b[39m=\u001b[39m \u001b[39mself\u001b[39m\u001b[39m.\u001b[39mgenerate_plot_figure(\n\u001b[0;32m    <a href='file:///c%3A/Users/tobia/Programming/SODAS-KU/w2v_widget/w2widget/widget.py?line=472'>473</a>\u001b[0m     \u001b[39m\"\u001b[39m\u001b[39mEmbedding of doc2vec-space\u001b[39m\u001b[39m\"\u001b[39m, xy_range\u001b[39m=\u001b[39m\u001b[39mself\u001b[39m\u001b[39m.\u001b[39mdv_get_axis_range()\n\u001b[0;32m    <a href='file:///c%3A/Users/tobia/Programming/SODAS-KU/w2v_widget/w2widget/widget.py?line=473'>474</a>\u001b[0m )\n\u001b[1;32m--> <a href='file:///c%3A/Users/tobia/Programming/SODAS-KU/w2v_widget/w2widget/widget.py?line=474'>475</a>\u001b[0m \u001b[39mself\u001b[39;49m\u001b[39m.\u001b[39;49madd_document_embedding_traces()\n\u001b[0;32m    <a href='file:///c%3A/Users/tobia/Programming/SODAS-KU/w2v_widget/w2widget/widget.py?line=476'>477</a>\u001b[0m \u001b[39mself\u001b[39m\u001b[39m.\u001b[39mplot_tab \u001b[39m=\u001b[39m widgets\u001b[39m.\u001b[39mTab(\n\u001b[0;32m    <a href='file:///c%3A/Users/tobia/Programming/SODAS-KU/w2v_widget/w2widget/widget.py?line=477'>478</a>\u001b[0m     children\u001b[39m=\u001b[39m[\u001b[39mself\u001b[39m\u001b[39m.\u001b[39mwv_figure_widget, \u001b[39mself\u001b[39m\u001b[39m.\u001b[39mdv_figure_widget],\n\u001b[0;32m    <a href='file:///c%3A/Users/tobia/Programming/SODAS-KU/w2v_widget/w2widget/widget.py?line=478'>479</a>\u001b[0m     layout\u001b[39m=\u001b[39mLayout(margin\u001b[39m=\u001b[39m\u001b[39m\"\u001b[39m\u001b[39m0px 50px 0px 0px\u001b[39m\u001b[39m\"\u001b[39m),\n\u001b[0;32m    <a href='file:///c%3A/Users/tobia/Programming/SODAS-KU/w2v_widget/w2widget/widget.py?line=479'>480</a>\u001b[0m )\n\u001b[0;32m    <a href='file:///c%3A/Users/tobia/Programming/SODAS-KU/w2v_widget/w2widget/widget.py?line=480'>481</a>\u001b[0m \u001b[39mself\u001b[39m\u001b[39m.\u001b[39mplot_tab\u001b[39m.\u001b[39m_titles \u001b[39m=\u001b[39m {\u001b[39m0\u001b[39m: \u001b[39m\"\u001b[39m\u001b[39mWords\u001b[39m\u001b[39m\"\u001b[39m, \u001b[39m1\u001b[39m: \u001b[39m\"\u001b[39m\u001b[39mDocuments\u001b[39m\u001b[39m\"\u001b[39m}\n",
      "File \u001b[1;32mc:\\Users\\tobia\\Programming\\SODAS-KU\\w2v_widget\\w2widget\\widget.py:257\u001b[0m, in \u001b[0;36mWidget.add_document_embedding_traces\u001b[1;34m(self)\u001b[0m\n\u001b[0;32m    <a href='file:///c%3A/Users/tobia/Programming/SODAS-KU/w2v_widget/w2widget/widget.py?line=253'>254</a>\u001b[0m topic_words \u001b[39m=\u001b[39m \u001b[39mself\u001b[39m\u001b[39m.\u001b[39mtopic_words\u001b[39m.\u001b[39mcopy()\n\u001b[0;32m    <a href='file:///c%3A/Users/tobia/Programming/SODAS-KU/w2v_widget/w2widget/widget.py?line=255'>256</a>\u001b[0m \u001b[39mif\u001b[39;00m topic_words:\n\u001b[1;32m--> <a href='file:///c%3A/Users/tobia/Programming/SODAS-KU/w2v_widget/w2widget/widget.py?line=256'>257</a>\u001b[0m     x, y \u001b[39m=\u001b[39m \u001b[39mself\u001b[39;49m\u001b[39m.\u001b[39;49mdv_model\u001b[39m.\u001b[39;49mget_TSNE_reduced_doc(topic_words)[\u001b[39m0\u001b[39m]\n\u001b[0;32m    <a href='file:///c%3A/Users/tobia/Programming/SODAS-KU/w2v_widget/w2widget/widget.py?line=258'>259</a>\u001b[0m     \u001b[39mself\u001b[39m\u001b[39m.\u001b[39mdv_figure_widget\u001b[39m.\u001b[39madd_trace(\n\u001b[0;32m    <a href='file:///c%3A/Users/tobia/Programming/SODAS-KU/w2v_widget/w2widget/widget.py?line=259'>260</a>\u001b[0m         go\u001b[39m.\u001b[39mScatter(\n\u001b[0;32m    <a href='file:///c%3A/Users/tobia/Programming/SODAS-KU/w2v_widget/w2widget/widget.py?line=260'>261</a>\u001b[0m             x\u001b[39m=\u001b[39m[x],\n\u001b[1;32m   (...)\u001b[0m\n\u001b[0;32m    <a href='file:///c%3A/Users/tobia/Programming/SODAS-KU/w2v_widget/w2widget/widget.py?line=266'>267</a>\u001b[0m         )\n\u001b[0;32m    <a href='file:///c%3A/Users/tobia/Programming/SODAS-KU/w2v_widget/w2widget/widget.py?line=267'>268</a>\u001b[0m     )\n\u001b[0;32m    <a href='file:///c%3A/Users/tobia/Programming/SODAS-KU/w2v_widget/w2widget/widget.py?line=269'>270</a>\u001b[0m     query_values \u001b[39m=\u001b[39m [x[\u001b[39m0\u001b[39m] \u001b[39mfor\u001b[39;00m x \u001b[39min\u001b[39;00m \u001b[39mself\u001b[39m\u001b[39m.\u001b[39mdv_model\u001b[39m.\u001b[39mmost_similar(topic_words)]\n",
      "File \u001b[1;32mc:\\Users\\tobia\\anaconda3\\envs\\w2widget\\lib\\site-packages\\w2v_widget\\utils.py:52\u001b[0m, in \u001b[0;36mDoc2Vec.get_TSNE_reduced_doc\u001b[1;34m(self, doc)\u001b[0m\n\u001b[0;32m     <a href='file:///c%3A/Users/tobia/anaconda3/envs/w2widget/lib/site-packages/w2v_widget/utils.py?line=50'>51</a>\u001b[0m \u001b[39mdef\u001b[39;00m \u001b[39mget_TSNE_reduced_doc\u001b[39m(\u001b[39mself\u001b[39m, doc):\n\u001b[1;32m---> <a href='file:///c%3A/Users/tobia/anaconda3/envs/w2widget/lib/site-packages/w2v_widget/utils.py?line=51'>52</a>\u001b[0m     \u001b[39mreturn\u001b[39;00m \u001b[39mself\u001b[39;49m\u001b[39m.\u001b[39;49mTSNE_embedding\u001b[39m.\u001b[39mtransform(\u001b[39mself\u001b[39m\u001b[39m.\u001b[39mcalculate_doc2vec(doc))\n",
      "\u001b[1;31mAttributeError\u001b[0m: 'Doc2Vec' object has no attribute 'TSNE_embedding'"
     ]
    }
   ],
   "source": [
    "wv_widget = Widget(\n",
    "    wv_model=wv_model,\n",
    "    two_dim_word_embedding=TSNE_embedding,\n",
    "    dv_model=dv_model,\n",
    "    two_dim_doc_embedding=dv_tsne_embedding,\n",
    "    tokens_with_ws=tokens_with_ws,\n",
    "    initial_search_words=[\"president\", \"vice\"],\n",
    ")\n",
    "\n",
    "wv_widget.display_widget()\n"
   ]
  },
  {
   "cell_type": "code",
   "execution_count": 4,
   "metadata": {},
   "outputs": [
    {
     "data": {
      "text/plain": [
       "WindowsPath('C:/Users/tobia/AppData/Local/Temp/w2widget/tmpl3gwkzrh')"
      ]
     },
     "execution_count": 4,
     "metadata": {},
     "output_type": "execute_result"
    }
   ],
   "source": [
    "wv_widget.save_file_path"
   ]
  }
 ],
 "metadata": {
  "interpreter": {
   "hash": "ec010e966837cae837deaaf4e5496ec78be523a218bce7b35f26aada2ba560b3"
  },
  "kernelspec": {
   "display_name": "Python 3.8.13 ('w2widget')",
   "language": "python",
   "name": "python3"
  },
  "language_info": {
   "codemirror_mode": {
    "name": "ipython",
    "version": 3
   },
   "file_extension": ".py",
   "mimetype": "text/x-python",
   "name": "python",
   "nbconvert_exporter": "python",
   "pygments_lexer": "ipython3",
   "version": "3.8.13"
  },
  "orig_nbformat": 4
 },
 "nbformat": 4,
 "nbformat_minor": 2
}
